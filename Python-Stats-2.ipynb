{
 "cells": [
  {
   "cell_type": "code",
   "execution_count": 16,
   "id": "1821d4b5",
   "metadata": {},
   "outputs": [],
   "source": [
    "import numpy as np\n",
    "from statistics import mode"
   ]
  },
  {
   "cell_type": "code",
   "execution_count": 2,
   "id": "9d8ad981",
   "metadata": {},
   "outputs": [],
   "source": [
    "population=np.random.randint(10,20,50)"
   ]
  },
  {
   "cell_type": "code",
   "execution_count": 3,
   "id": "0b7ac58d",
   "metadata": {},
   "outputs": [
    {
     "data": {
      "text/plain": [
       "array([12, 15, 10, 17, 17, 18, 19, 19, 19, 10, 12, 18, 14, 11, 18, 10, 19,\n",
       "       10, 19, 12, 12, 10, 18, 11, 16, 18, 11, 17, 10, 15, 15, 11, 16, 19,\n",
       "       18, 19, 11, 12, 17, 10, 18, 16, 19, 17, 15, 12, 12, 15, 14, 15])"
      ]
     },
     "execution_count": 3,
     "metadata": {},
     "output_type": "execute_result"
    }
   ],
   "source": [
    "population"
   ]
  },
  {
   "cell_type": "code",
   "execution_count": 4,
   "id": "2354f0c5",
   "metadata": {},
   "outputs": [
    {
     "data": {
      "text/plain": [
       "14.76"
      ]
     },
     "execution_count": 4,
     "metadata": {},
     "output_type": "execute_result"
    }
   ],
   "source": [
    "np.mean(population)"
   ]
  },
  {
   "cell_type": "code",
   "execution_count": 5,
   "id": "ac9ffef5",
   "metadata": {},
   "outputs": [
    {
     "data": {
      "text/plain": [
       "15.0"
      ]
     },
     "execution_count": 5,
     "metadata": {},
     "output_type": "execute_result"
    }
   ],
   "source": [
    "np.median(population)"
   ]
  },
  {
   "cell_type": "code",
   "execution_count": 6,
   "id": "92977a9e",
   "metadata": {},
   "outputs": [
    {
     "data": {
      "text/plain": [
       "19"
      ]
     },
     "execution_count": 6,
     "metadata": {},
     "output_type": "execute_result"
    }
   ],
   "source": [
    "mode(population)"
   ]
  },
  {
   "cell_type": "code",
   "execution_count": 7,
   "id": "7abdc6c8",
   "metadata": {},
   "outputs": [
    {
     "name": "stdout",
     "output_type": "stream",
     "text": [
      "Mean of the population : 14.76\n",
      "Median of the population : 15.0\n",
      "Mode of the population : 19\n"
     ]
    }
   ],
   "source": [
    "print(f\"Mean of the population : {np.mean(population)}\")\n",
    "print(f\"Median of the population : {np.median(population)}\")\n",
    "print(f\"Mode of the population : {mode(population)}\")"
   ]
  },
  {
   "cell_type": "code",
   "execution_count": 8,
   "id": "bef08b17",
   "metadata": {},
   "outputs": [
    {
     "data": {
      "text/plain": [
       "array([11, 18, 15, 11, 18])"
      ]
     },
     "execution_count": 8,
     "metadata": {},
     "output_type": "execute_result"
    }
   ],
   "source": [
    "np.random.choice(population,5)"
   ]
  },
  {
   "cell_type": "code",
   "execution_count": 9,
   "id": "19a4f997",
   "metadata": {},
   "outputs": [],
   "source": [
    "sample=np.random.choice(population,20)"
   ]
  },
  {
   "cell_type": "code",
   "execution_count": 10,
   "id": "ccd69dd2",
   "metadata": {},
   "outputs": [],
   "source": [
    "sample1=np.random.choice(population,20)\n",
    "sample2=np.random.choice(population,20)\n",
    "sample3=np.random.choice(population,20)\n",
    "sample4=np.random.choice(population,20)"
   ]
  },
  {
   "cell_type": "code",
   "execution_count": 11,
   "id": "3cd765dd",
   "metadata": {},
   "outputs": [],
   "source": [
    "mean_of_samples=[]\n",
    "\n",
    "all_sample=[sample1,sample2,sample3,sample4]\n",
    "\n",
    "for sample in all_sample:\n",
    "    mean_of_samples.append(np.mean(sample))"
   ]
  },
  {
   "cell_type": "code",
   "execution_count": 12,
   "id": "39aa5308",
   "metadata": {},
   "outputs": [
    {
     "data": {
      "text/plain": [
       "[15.7, 14.2, 14.35, 14.45]"
      ]
     },
     "execution_count": 12,
     "metadata": {},
     "output_type": "execute_result"
    }
   ],
   "source": [
    "mean_of_samples"
   ]
  },
  {
   "cell_type": "markdown",
   "id": "9efa19f2",
   "metadata": {},
   "source": [
    "## Central Limit Theorem"
   ]
  },
  {
   "cell_type": "code",
   "execution_count": 13,
   "id": "ec74c99d",
   "metadata": {},
   "outputs": [],
   "source": [
    "population=np.random.binomial(10,0.5,10000)"
   ]
  },
  {
   "cell_type": "code",
   "execution_count": 14,
   "id": "0ac5869f",
   "metadata": {},
   "outputs": [
    {
     "name": "stdout",
     "output_type": "stream",
     "text": [
      "[8 3 6 ... 6 5 6]\n"
     ]
    }
   ],
   "source": [
    "print(population)"
   ]
  },
  {
   "cell_type": "code",
   "execution_count": 15,
   "id": "a91b97e6",
   "metadata": {},
   "outputs": [
    {
     "data": {
      "text/plain": [
       "10000"
      ]
     },
     "execution_count": 15,
     "metadata": {},
     "output_type": "execute_result"
    }
   ],
   "source": [
    "len(population)"
   ]
  },
  {
   "cell_type": "code",
   "execution_count": 13,
   "id": "79ed70b3",
   "metadata": {},
   "outputs": [],
   "source": [
    "import seaborn as sns"
   ]
  },
  {
   "cell_type": "code",
   "execution_count": 17,
   "id": "1f00b21d",
   "metadata": {},
   "outputs": [
    {
     "name": "stderr",
     "output_type": "stream",
     "text": [
      "C:\\Users\\devas\\anaconda3\\lib\\site-packages\\seaborn\\distributions.py:2619: FutureWarning: `distplot` is a deprecated function and will be removed in a future version. Please adapt your code to use either `displot` (a figure-level function with similar flexibility) or `histplot` (an axes-level function for histograms).\n",
      "  warnings.warn(msg, FutureWarning)\n"
     ]
    },
    {
     "data": {
      "text/plain": [
       "<AxesSubplot:ylabel='Density'>"
      ]
     },
     "execution_count": 17,
     "metadata": {},
     "output_type": "execute_result"
    },
    {
     "data": {
      "image/png": "[encoded data removed]",
      "text/plain": [
       "<Figure size 640x480 with 1 Axes>"
      ]
     },
     "metadata": {},
     "output_type": "display_data"
    }
   ],
   "source": [
    "sns.distplot(population)"
   ]
  },
  {
   "cell_type": "code",
   "execution_count": 18,
   "id": "375ccba2",
   "metadata": {},
   "outputs": [
    {
     "data": {
      "text/plain": [
       "10000"
      ]
     },
     "execution_count": 18,
     "metadata": {},
     "output_type": "execute_result"
    }
   ],
   "source": [
    "len(population)"
   ]
  },
  {
   "cell_type": "code",
   "execution_count": 19,
   "id": "bf5461bb",
   "metadata": {},
   "outputs": [],
   "source": [
    "size=int(len(population)*0.50)"
   ]
  },
  {
   "cell_type": "markdown",
   "id": "718752a3",
   "metadata": {},
   "source": [
    "## No. of samples=30 && sample_size=3000"
   ]
  },
  {
   "cell_type": "code",
   "execution_count": 20,
   "id": "eb2bdd94",
   "metadata": {},
   "outputs": [],
   "source": [
    "sample_mean=[]\n",
    "for i in range(1,31):\n",
    "    sample=np.random.choice(population,size=size)\n",
    "    sample_mean.append(np.mean(sample))"
   ]
  },
  {
   "cell_type": "code",
   "execution_count": 21,
   "id": "837c732b",
   "metadata": {},
   "outputs": [
    {
     "data": {
      "text/plain": [
       "[4.9814,\n",
       " 5.0314,\n",
       " 5.0342,\n",
       " 4.995,\n",
       " 4.9922,\n",
       " 5.0184,\n",
       " 5.027,\n",
       " 5.0168,\n",
       " 4.9948,\n",
       " 5.0076,\n",
       " 5.0214,\n",
       " 5.0106,\n",
       " 5.005,\n",
       " 4.9926,\n",
       " 4.9992,\n",
       " 5.0194,\n",
       " 5.0232,\n",
       " 5.0218,\n",
       " 5.0094,\n",
       " 5.0086,\n",
       " 4.9798,\n",
       " 4.9962,\n",
       " 4.9984,\n",
       " 5.0052,\n",
       " 5.0116,\n",
       " 5.0036,\n",
       " 4.9752,\n",
       " 4.9702,\n",
       " 4.9928,\n",
       " 5.0108]"
      ]
     },
     "execution_count": 21,
     "metadata": {},
     "output_type": "execute_result"
    }
   ],
   "source": [
    "sample_mean"
   ]
  },
  {
   "cell_type": "code",
   "execution_count": 22,
   "id": "a2ea80ab",
   "metadata": {},
   "outputs": [
    {
     "name": "stderr",
     "output_type": "stream",
     "text": [
      "C:\\Users\\devas\\anaconda3\\lib\\site-packages\\seaborn\\distributions.py:2619: FutureWarning: `distplot` is a deprecated function and will be removed in a future version. Please adapt your code to use either `displot` (a figure-level function with similar flexibility) or `histplot` (an axes-level function for histograms).\n",
      "  warnings.warn(msg, FutureWarning)\n"
     ]
    },
    {
     "data": {
      "text/plain": [
       "<AxesSubplot:ylabel='Density'>"
      ]
     },
     "execution_count": 22,
     "metadata": {},
     "output_type": "execute_result"
    },
    {
     "data": {
      "image/png": "[encoded data removed]",
      "text/plain": [
       "<Figure size 640x480 with 1 Axes>"
      ]
     },
     "metadata": {},
     "output_type": "display_data"
    }
   ],
   "source": [
    "sns.distplot(sample_mean)"
   ]
  },
  {
   "cell_type": "code",
   "execution_count": 23,
   "id": "3ef6db2f",
   "metadata": {},
   "outputs": [],
   "source": [
    "sample_mean=[]\n",
    "for i in range(1,101):\n",
    "    sample=np.random.choice(population,size=size)\n",
    "    sample_mean.append(np.mean(sample))"
   ]
  },
  {
   "cell_type": "code",
   "execution_count": 24,
   "id": "4b7b16b2",
   "metadata": {},
   "outputs": [
    {
     "name": "stderr",
     "output_type": "stream",
     "text": [
      "C:\\Users\\devas\\anaconda3\\lib\\site-packages\\seaborn\\distributions.py:2619: FutureWarning: `distplot` is a deprecated function and will be removed in a future version. Please adapt your code to use either `displot` (a figure-level function with similar flexibility) or `histplot` (an axes-level function for histograms).\n",
      "  warnings.warn(msg, FutureWarning)\n"
     ]
    },
    {
     "data": {
      "text/plain": [
       "<AxesSubplot:ylabel='Density'>"
      ]
     },
     "execution_count": 24,
     "metadata": {},
     "output_type": "execute_result"
    },
    {
     "data": {
      "image/png": "[encoded data removed]",
      "text/plain": [
       "<Figure size 640x480 with 1 Axes>"
      ]
     },
     "metadata": {},
     "output_type": "display_data"
    }
   ],
   "source": [
    "sns.distplot(sample_mean)"
   ]
  },
  {
   "cell_type": "markdown",
   "id": "86fcd61f",
   "metadata": {},
   "source": [
    "## As the number of samples increase the plot gets more and more normal!!"
   ]
  },
  {
   "cell_type": "code",
   "execution_count": 25,
   "id": "384637ed",
   "metadata": {},
   "outputs": [],
   "source": [
    "sample_mean=[]\n",
    "for i in range(1,1000):\n",
    "    sample=np.random.choice(population,size=size)\n",
    "    sample_mean.append(np.mean(sample))"
   ]
  },
  {
   "cell_type": "code",
   "execution_count": 26,
   "id": "be8bd378",
   "metadata": {},
   "outputs": [
    {
     "name": "stderr",
     "output_type": "stream",
     "text": [
      "C:\\Users\\devas\\anaconda3\\lib\\site-packages\\seaborn\\distributions.py:2619: FutureWarning: `distplot` is a deprecated function and will be removed in a future version. Please adapt your code to use either `displot` (a figure-level function with similar flexibility) or `histplot` (an axes-level function for histograms).\n",
      "  warnings.warn(msg, FutureWarning)\n"
     ]
    },
    {
     "data": {
      "text/plain": [
       "<AxesSubplot:ylabel='Density'>"
      ]
     },
     "execution_count": 26,
     "metadata": {},
     "output_type": "execute_result"
    },
    {
     "data": {
      "image/png": "[encoded data removed]",
      "text/plain": [
       "<Figure size 640x480 with 1 Axes>"
      ]
     },
     "metadata": {},
     "output_type": "display_data"
    }
   ],
   "source": [
    "sns.distplot(sample_mean,kde=True,color='black')"
   ]
  },
  {
   "cell_type": "markdown",
   "id": "cfd26553",
   "metadata": {},
   "source": [
    "## Confidence Interval and Margin of Error:"
   ]
  },
  {
   "cell_type": "code",
   "execution_count": 27,
   "id": "357d0762",
   "metadata": {},
   "outputs": [],
   "source": [
    "import scipy.stats as stats"
   ]
  },
  {
   "cell_type": "code",
   "execution_count": 28,
   "id": "ba512032",
   "metadata": {},
   "outputs": [],
   "source": [
    "population=np.random.randint(10,20,50)"
   ]
  },
  {
   "cell_type": "code",
   "execution_count": 29,
   "id": "9c31c389",
   "metadata": {},
   "outputs": [
    {
     "data": {
      "text/plain": [
       "array([13, 10, 14, 18, 18, 18, 17, 13, 16, 14, 11, 15, 15, 19, 13, 14, 16,\n",
       "       16, 17, 17, 11, 17, 11, 19, 11, 12, 10, 11, 15, 15, 11, 17, 18, 15,\n",
       "       17, 13, 13, 17, 18, 12, 11, 15, 19, 11, 13, 12, 13, 15, 10, 17])"
      ]
     },
     "execution_count": 29,
     "metadata": {},
     "output_type": "execute_result"
    }
   ],
   "source": [
    "population"
   ]
  },
  {
   "cell_type": "code",
   "execution_count": 30,
   "id": "5fb1e143",
   "metadata": {},
   "outputs": [],
   "source": [
    "sample1=np.random.choice(population,20)\n",
    "sample2=np.random.choice(population,20)\n",
    "sample3=np.random.choice(population,20)\n",
    "sample4=np.random.choice(population,20)"
   ]
  },
  {
   "cell_type": "code",
   "execution_count": 31,
   "id": "f6e10043",
   "metadata": {},
   "outputs": [],
   "source": [
    "mean_of_samples=[]\n",
    "\n",
    "all_sample=[sample1,sample2,sample3,sample4]\n",
    "\n",
    "for sample in all_sample:\n",
    "    mean_of_samples.append(np.mean(sample))"
   ]
  },
  {
   "cell_type": "code",
   "execution_count": 32,
   "id": "657d539a",
   "metadata": {},
   "outputs": [
    {
     "data": {
      "text/plain": [
       "1.6448536269514722"
      ]
     },
     "execution_count": 32,
     "metadata": {},
     "output_type": "execute_result"
    }
   ],
   "source": [
    "stats.norm.ppf(q=0.95)"
   ]
  },
  {
   "cell_type": "code",
   "execution_count": 33,
   "id": "523234fc",
   "metadata": {},
   "outputs": [
    {
     "data": {
      "text/plain": [
       "1.959963984540054"
      ]
     },
     "execution_count": 33,
     "metadata": {},
     "output_type": "execute_result"
    }
   ],
   "source": [
    "stats.norm.ppf(q=0.975)"
   ]
  },
  {
   "cell_type": "code",
   "execution_count": 34,
   "id": "7d112669",
   "metadata": {},
   "outputs": [
    {
     "data": {
      "text/plain": [
       "2.3263478740408408"
      ]
     },
     "execution_count": 34,
     "metadata": {},
     "output_type": "execute_result"
    }
   ],
   "source": [
    "stats.norm.ppf(q=0.99)"
   ]
  },
  {
   "cell_type": "code",
   "execution_count": 35,
   "id": "e80822bb",
   "metadata": {},
   "outputs": [],
   "source": [
    "z_critical=stats.norm.ppf(q=0.975)"
   ]
  },
  {
   "cell_type": "code",
   "execution_count": 36,
   "id": "b43ae027",
   "metadata": {},
   "outputs": [],
   "source": [
    "t_critical=stats.t.ppf(q=0.975,df=24)"
   ]
  },
  {
   "cell_type": "code",
   "execution_count": 37,
   "id": "188151b9",
   "metadata": {},
   "outputs": [],
   "source": [
    "margin_of_error=z_critical*(np.std(mean_of_samples)/np.sqrt(20))"
   ]
  },
  {
   "cell_type": "code",
   "execution_count": 38,
   "id": "a7053b1a",
   "metadata": {},
   "outputs": [
    {
     "data": {
      "text/plain": [
       "14.647984397958837"
      ]
     },
     "execution_count": 38,
     "metadata": {},
     "output_type": "execute_result"
    }
   ],
   "source": [
    "np.mean(mean_of_samples)-margin_of_error"
   ]
  },
  {
   "cell_type": "code",
   "execution_count": 39,
   "id": "7555283e",
   "metadata": {},
   "outputs": [
    {
     "data": {
      "text/plain": [
       "14.827015602041161"
      ]
     },
     "execution_count": 39,
     "metadata": {},
     "output_type": "execute_result"
    }
   ],
   "source": [
    "np.mean(mean_of_samples)+margin_of_error"
   ]
  },
  {
   "cell_type": "markdown",
   "id": "3b56416c",
   "metadata": {},
   "source": [
    "## Z-Test"
   ]
  },
  {
   "cell_type": "code",
   "execution_count": 49,
   "id": "60a33a26",
   "metadata": {},
   "outputs": [],
   "source": [
    "from numpy.random import randn\n",
    "population=randn(100)"
   ]
  },
  {
   "cell_type": "code",
   "execution_count": 50,
   "id": "f1114d86",
   "metadata": {},
   "outputs": [
    {
     "data": {
      "text/plain": [
       "array([ 1.40152611, -1.36821795,  1.84932281, -1.09566191, -0.26106581,\n",
       "       -1.03182094,  0.83895774,  0.18417732, -0.726503  , -0.21515685,\n",
       "        0.82598317,  0.91955424,  0.06149642,  0.44773983,  0.49942312,\n",
       "        1.12062222, -1.01990016,  0.68066108, -1.19129467,  0.78363796,\n",
       "       -1.08301715, -0.68120833,  1.17830304, -0.72952832, -0.33541219,\n",
       "       -1.12082671, -0.94882096, -0.13355278, -1.04746794,  0.27914153,\n",
       "       -0.9106732 ,  0.37360283,  0.43185272, -1.2358765 , -0.60719902,\n",
       "        0.0101689 , -1.90100249,  0.61395603,  0.96099439,  0.89631455,\n",
       "        0.19808832,  1.86925692, -0.90510811, -0.96815668, -0.61122378,\n",
       "       -0.97044075, -1.39119898,  0.43952032,  1.24220061,  0.79147817,\n",
       "        0.40613591,  1.50090567,  1.73943003,  0.52106893, -0.02105068,\n",
       "        0.7689324 ,  0.85266165,  0.58272966,  1.37636518, -0.74913836,\n",
       "        1.55976955,  0.84543408, -0.93581452,  0.12402779,  0.82338262,\n",
       "        1.55729258,  0.66651083, -0.09666524,  0.5595543 ,  0.09892555,\n",
       "        0.50327403, -0.99974117, -0.22022159,  0.48773655,  0.38354901,\n",
       "        1.16104693, -0.31605653, -1.29583498,  2.39342629,  0.85771884,\n",
       "        1.33030909, -0.59958901,  0.83350907,  0.42277531, -0.10265284,\n",
       "       -0.25770054,  0.22945341,  0.18557142, -0.09200641, -0.97828498,\n",
       "       -0.90276872, -0.33098022, -0.28642032,  0.15789544, -0.72499859,\n",
       "        1.04149964, -2.13325171, -1.7575858 ,  0.15445111, -0.32875235])"
      ]
     },
     "execution_count": 50,
     "metadata": {},
     "output_type": "execute_result"
    }
   ],
   "source": [
    "population"
   ]
  },
  {
   "cell_type": "code",
   "execution_count": 51,
   "id": "1f7816cc",
   "metadata": {},
   "outputs": [
    {
     "name": "stderr",
     "output_type": "stream",
     "text": [
      "C:\\Users\\devas\\anaconda3\\lib\\site-packages\\seaborn\\distributions.py:2619: FutureWarning: `distplot` is a deprecated function and will be removed in a future version. Please adapt your code to use either `displot` (a figure-level function with similar flexibility) or `histplot` (an axes-level function for histograms).\n",
      "  warnings.warn(msg, FutureWarning)\n"
     ]
    },
    {
     "data": {
      "text/plain": [
       "<AxesSubplot:ylabel='Density'>"
      ]
     },
     "execution_count": 51,
     "metadata": {},
     "output_type": "execute_result"
    },
    {
     "data": {
      "image/png": "[encoded data removed]",
      "text/plain": [
       "<Figure size 640x480 with 1 Axes>"
      ]
     },
     "metadata": {},
     "output_type": "display_data"
    }
   ],
   "source": [
    "sns.distplot(population)"
   ]
  },
  {
   "cell_type": "code",
   "execution_count": 52,
   "id": "8c828216",
   "metadata": {},
   "outputs": [
    {
     "name": "stdout",
     "output_type": "stream",
     "text": [
      "Here is a mean of the population: 0.07403473452766046 and here is the standard deviation: 0.9348263432133025.\n"
     ]
    }
   ],
   "source": [
    "print(f\"Here is a mean of the population: {np.mean(population)} and here is the standard deviation: {np.std(population)}.\")"
   ]
  },
  {
   "cell_type": "code",
   "execution_count": null,
   "id": "ce7ee431",
   "metadata": {},
   "outputs": [],
   "source": [
    "C.I=95%\n",
    "ALPHA=0.05(5%)"
   ]
  },
  {
   "cell_type": "code",
   "execution_count": null,
   "id": "a413d5e9",
   "metadata": {},
   "outputs": [],
   "source": [
    "If P<=0.05 #REJECT THE NULL HYPOTHESIS"
   ]
  },
  {
   "cell_type": "code",
   "execution_count": null,
   "id": "433356f6",
   "metadata": {},
   "outputs": [],
   "source": [
    " If P>0.05 #YOU ARE GOING TO ACCEPT THE NULL HYPOTHESIS"
   ]
  },
  {
   "cell_type": "code",
   "execution_count": null,
   "id": "5c399e3f",
   "metadata": {},
   "outputs": [],
   "source": [
    "P<=ALPHA\n",
    "P>ALPHA"
   ]
  },
  {
   "cell_type": "code",
   "execution_count": 3,
   "id": "aca52f99",
   "metadata": {},
   "outputs": [
    {
     "name": "stdout",
     "output_type": "stream",
     "text": [
      "Requirement already satisfied: statsmodels in c:\\users\\devas\\anaconda3\\lib\\site-packages (0.13.2)\n",
      "Requirement already satisfied: numpy>=1.17 in c:\\users\\devas\\anaconda3\\lib\\site-packages (from statsmodels) (1.21.5)\n",
      "Requirement already satisfied: scipy>=1.3 in c:\\users\\devas\\anaconda3\\lib\\site-packages (from statsmodels) (1.9.1)\n",
      "Requirement already satisfied: pandas>=0.25 in c:\\users\\devas\\anaconda3\\lib\\site-packages (from statsmodels) (1.4.4)\n",
      "Requirement already satisfied: patsy>=0.5.2 in c:\\users\\devas\\anaconda3\\lib\\site-packages (from statsmodels) (0.5.2)\n",
      "Requirement already satisfied: packaging>=21.3 in c:\\users\\devas\\anaconda3\\lib\\site-packages (from statsmodels) (21.3)\n",
      "Requirement already satisfied: pyparsing!=3.0.5,>=2.0.2 in c:\\users\\devas\\anaconda3\\lib\\site-packages (from packaging>=21.3->statsmodels) (3.0.9)\n",
      "Requirement already satisfied: python-dateutil>=2.8.1 in c:\\users\\devas\\anaconda3\\lib\\site-packages (from pandas>=0.25->statsmodels) (2.8.2)\n",
      "Requirement already satisfied: pytz>=2020.1 in c:\\users\\devas\\anaconda3\\lib\\site-packages (from pandas>=0.25->statsmodels) (2022.1)\n",
      "Requirement already satisfied: six in c:\\users\\devas\\anaconda3\\lib\\site-packages (from patsy>=0.5.2->statsmodels) (1.16.0)\n",
      "Note: you may need to restart the kernel to use updated packages.\n"
     ]
    }
   ],
   "source": [
    "pip install statsmodels"
   ]
  },
  {
   "cell_type": "code",
   "execution_count": 53,
   "id": "4b5e1aa6",
   "metadata": {},
   "outputs": [],
   "source": [
    "null_mean=0.07"
   ]
  },
  {
   "cell_type": "code",
   "execution_count": 54,
   "id": "89aa02c7",
   "metadata": {},
   "outputs": [],
   "source": [
    "from statsmodels.stats.weightstats import ztest\n",
    "z_score,p_value=ztest(population,value=null_mean,alternative='larger')"
   ]
  },
  {
   "cell_type": "code",
   "execution_count": 55,
   "id": "4caaf259",
   "metadata": {},
   "outputs": [],
   "source": [
    "#p_value=0.05\n",
    "ALPHA=0.05"
   ]
  },
  {
   "cell_type": "code",
   "execution_count": 56,
   "id": "22ba8a53",
   "metadata": {},
   "outputs": [
    {
     "name": "stdout",
     "output_type": "stream",
     "text": [
      "We fail to reject the null hypothesis!\n"
     ]
    }
   ],
   "source": [
    "if (p_value<ALPHA).all():\n",
    "    print(\"Reject the null hypothesis\")\n",
    "else:\n",
    "    print(\"We fail to reject the null hypothesis!\")"
   ]
  },
  {
   "cell_type": "code",
   "execution_count": 57,
   "id": "b620960c",
   "metadata": {},
   "outputs": [
    {
     "data": {
      "text/plain": [
       "0.4828731215328149"
      ]
     },
     "execution_count": 57,
     "metadata": {},
     "output_type": "execute_result"
    }
   ],
   "source": [
    "p_value"
   ]
  },
  {
   "cell_type": "code",
   "execution_count": null,
   "id": "2903c405",
   "metadata": {},
   "outputs": [],
   "source": []
  },
  {
   "cell_type": "code",
   "execution_count": null,
   "id": "0546f04f",
   "metadata": {},
   "outputs": [],
   "source": []
  },
  {
   "cell_type": "code",
   "execution_count": null,
   "id": "e4d2f477",
   "metadata": {},
   "outputs": [],
   "source": []
  },
  {
   "cell_type": "code",
   "execution_count": null,
   "id": "2264cc5e",
   "metadata": {},
   "outputs": [],
   "source": []
  }
 ],
 "metadata": {
  "kernelspec": {
   "display_name": "Python 3 (ipykernel)",
   "language": "python",
   "name": "python3"
  },
  "language_info": {
   "codemirror_mode": {
    "name": "ipython",
    "version": 3
   },
   "file_extension": ".py",
   "mimetype": "text/x-python",
   "name": "python",
   "nbconvert_exporter": "python",
   "pygments_lexer": "ipython3",
   "version": "3.9.13"
  }
 },
 "nbformat": 4,
 "nbformat_minor": 5
}
