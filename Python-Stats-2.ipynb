{
 "cells": [
  {
   "cell_type": "code",
   "execution_count": 1,
   "id": "1821d4b5",
   "metadata": {},
   "outputs": [],
   "source": [
    "import numpy as np\n",
    "from statistics import mode"
   ]
  },
  {
   "cell_type": "code",
   "execution_count": 2,
   "id": "9d8ad981",
   "metadata": {},
   "outputs": [],
   "source": [
    "population=np.random.randint(10,20,50)"
   ]
  },
  {
   "cell_type": "code",
   "execution_count": 3,
   "id": "0b7ac58d",
   "metadata": {},
   "outputs": [
    {
     "data": {
      "text/plain": [
       "array([17, 18, 12, 12, 18, 19, 13, 17, 12, 18, 16, 15, 12, 16, 14, 15, 16,\n",
       "       10, 19, 17, 12, 12, 17, 19, 18, 14, 18, 17, 15, 18, 11, 12, 13, 15,\n",
       "       19, 18, 17, 13, 14, 12, 14, 15, 11, 18, 16, 12, 14, 13, 10, 15])"
      ]
     },
     "execution_count": 3,
     "metadata": {},
     "output_type": "execute_result"
    }
   ],
   "source": [
    "population"
   ]
  },
  {
   "cell_type": "code",
   "execution_count": 4,
   "id": "2354f0c5",
   "metadata": {},
   "outputs": [
    {
     "data": {
      "text/plain": [
       "14.96"
      ]
     },
     "execution_count": 4,
     "metadata": {},
     "output_type": "execute_result"
    }
   ],
   "source": [
    "np.mean(population)"
   ]
  },
  {
   "cell_type": "code",
   "execution_count": 5,
   "id": "ac9ffef5",
   "metadata": {},
   "outputs": [
    {
     "data": {
      "text/plain": [
       "15.0"
      ]
     },
     "execution_count": 5,
     "metadata": {},
     "output_type": "execute_result"
    }
   ],
   "source": [
    "np.median(population)"
   ]
  },
  {
   "cell_type": "code",
   "execution_count": 6,
   "id": "92977a9e",
   "metadata": {},
   "outputs": [
    {
     "data": {
      "text/plain": [
       "12"
      ]
     },
     "execution_count": 6,
     "metadata": {},
     "output_type": "execute_result"
    }
   ],
   "source": [
    "mode(population)"
   ]
  },
  {
   "cell_type": "code",
   "execution_count": 7,
   "id": "7abdc6c8",
   "metadata": {},
   "outputs": [
    {
     "name": "stdout",
     "output_type": "stream",
     "text": [
      "Mean of the population : 14.96\n",
      "Median of the population : 15.0\n",
      "Mode of the population : 12\n"
     ]
    }
   ],
   "source": [
    "print(f\"Mean of the population : {np.mean(population)}\")\n",
    "print(f\"Median of the population : {np.median(population)}\")\n",
    "print(f\"Mode of the population : {mode(population)}\")"
   ]
  },
  {
   "cell_type": "code",
   "execution_count": 8,
   "id": "bef08b17",
   "metadata": {},
   "outputs": [
    {
     "data": {
      "text/plain": [
       "array([18, 16, 18, 10, 15])"
      ]
     },
     "execution_count": 8,
     "metadata": {},
     "output_type": "execute_result"
    }
   ],
   "source": [
    "np.random.choice(population,5)"
   ]
  },
  {
   "cell_type": "code",
   "execution_count": 9,
   "id": "19a4f997",
   "metadata": {},
   "outputs": [],
   "source": [
    "sample=np.random.choice(population,20)"
   ]
  },
  {
   "cell_type": "code",
   "execution_count": 10,
   "id": "ccd69dd2",
   "metadata": {},
   "outputs": [],
   "source": [
    "sample1=np.random.choice(population,20)\n",
    "sample2=np.random.choice(population,20)\n",
    "sample3=np.random.choice(population,20)\n",
    "sample4=np.random.choice(population,20)"
   ]
  },
  {
   "cell_type": "code",
   "execution_count": 11,
   "id": "3cd765dd",
   "metadata": {},
   "outputs": [],
   "source": [
    "mean_of_samples=[]\n",
    "\n",
    "all_sample=[sample1,sample2,sample3,sample4]\n",
    "\n",
    "for sample in all_sample:\n",
    "    mean_of_samples.append(np.mean(sample))"
   ]
  },
  {
   "cell_type": "code",
   "execution_count": 12,
   "id": "39aa5308",
   "metadata": {},
   "outputs": [
    {
     "data": {
      "text/plain": [
       "[15.5, 15.75, 14.9, 14.9]"
      ]
     },
     "execution_count": 12,
     "metadata": {},
     "output_type": "execute_result"
    }
   ],
   "source": [
    "mean_of_samples"
   ]
  },
  {
   "cell_type": "markdown",
   "id": "9efa19f2",
   "metadata": {},
   "source": [
    "## Central Limit Theorem"
   ]
  },
  {
   "cell_type": "code",
   "execution_count": 13,
   "id": "ec74c99d",
   "metadata": {},
   "outputs": [],
   "source": [
    "population=np.random.binomial(10,0.5,10000)"
   ]
  },
  {
   "cell_type": "code",
   "execution_count": 14,
   "id": "0ac5869f",
   "metadata": {},
   "outputs": [
    {
     "name": "stdout",
     "output_type": "stream",
     "text": [
      "[3 2 6 ... 4 2 5]\n"
     ]
    }
   ],
   "source": [
    "print(population)"
   ]
  },
  {
   "cell_type": "code",
   "execution_count": 15,
   "id": "a91b97e6",
   "metadata": {},
   "outputs": [
    {
     "data": {
      "text/plain": [
       "10000"
      ]
     },
     "execution_count": 15,
     "metadata": {},
     "output_type": "execute_result"
    }
   ],
   "source": [
    "len(population)"
   ]
  },
  {
   "cell_type": "code",
   "execution_count": 16,
   "id": "79ed70b3",
   "metadata": {},
   "outputs": [],
   "source": [
    "import seaborn as sns"
   ]
  },
  {
   "cell_type": "code",
   "execution_count": 17,
   "id": "1f00b21d",
   "metadata": {},
   "outputs": [
    {
     "name": "stderr",
     "output_type": "stream",
     "text": [
      "C:\\Users\\devas\\anaconda3\\lib\\site-packages\\seaborn\\distributions.py:2619: FutureWarning: `distplot` is a deprecated function and will be removed in a future version. Please adapt your code to use either `displot` (a figure-level function with similar flexibility) or `histplot` (an axes-level function for histograms).\n",
      "  warnings.warn(msg, FutureWarning)\n"
     ]
    },
    {
     "data": {
      "text/plain": [
       "<AxesSubplot:ylabel='Density'>"
      ]
     },
     "execution_count": 17,
     "metadata": {},
     "output_type": "execute_result"
    },
    {
     "data": {
      "image/png": "[encoded data removed]",
      "text/plain": [
       "<Figure size 640x480 with 1 Axes>"
      ]
     },
     "metadata": {},
     "output_type": "display_data"
    }
   ],
   "source": [
    "sns.distplot(population)"
   ]
  },
  {
   "cell_type": "code",
   "execution_count": 18,
   "id": "375ccba2",
   "metadata": {},
   "outputs": [
    {
     "data": {
      "text/plain": [
       "10000"
      ]
     },
     "execution_count": 18,
     "metadata": {},
     "output_type": "execute_result"
    }
   ],
   "source": [
    "len(population)"
   ]
  },
  {
   "cell_type": "code",
   "execution_count": 19,
   "id": "bf5461bb",
   "metadata": {},
   "outputs": [],
   "source": [
    "size=int(len(population)*0.50)"
   ]
  },
  {
   "cell_type": "markdown",
   "id": "718752a3",
   "metadata": {},
   "source": [
    "## No. of samples=30 && sample_size=3000"
   ]
  },
  {
   "cell_type": "code",
   "execution_count": 20,
   "id": "eb2bdd94",
   "metadata": {},
   "outputs": [],
   "source": [
    "sample_mean=[]\n",
    "for i in range(1,31):\n",
    "    sample=np.random.choice(population,size=size)\n",
    "    sample_mean.append(np.mean(sample))"
   ]
  },
  {
   "cell_type": "code",
   "execution_count": 21,
   "id": "837c732b",
   "metadata": {},
   "outputs": [
    {
     "data": {
      "text/plain": [
       "[4.9848,\n",
       " 5.024,\n",
       " 5.0272,\n",
       " 5.019,\n",
       " 4.9462,\n",
       " 5.0114,\n",
       " 4.9466,\n",
       " 4.978,\n",
       " 5.0084,\n",
       " 5.002,\n",
       " 5.031,\n",
       " 5.0134,\n",
       " 5.0056,\n",
       " 4.9506,\n",
       " 5.0158,\n",
       " 5.0312,\n",
       " 4.9794,\n",
       " 4.9778,\n",
       " 4.9792,\n",
       " 5.0408,\n",
       " 4.9956,\n",
       " 5.0172,\n",
       " 5.001,\n",
       " 5.0034,\n",
       " 4.9898,\n",
       " 5.014,\n",
       " 4.9942,\n",
       " 5.0054,\n",
       " 5.002,\n",
       " 5.0064]"
      ]
     },
     "execution_count": 21,
     "metadata": {},
     "output_type": "execute_result"
    }
   ],
   "source": [
    "sample_mean"
   ]
  },
  {
   "cell_type": "code",
   "execution_count": 22,
   "id": "a2ea80ab",
   "metadata": {},
   "outputs": [
    {
     "name": "stderr",
     "output_type": "stream",
     "text": [
      "C:\\Users\\devas\\anaconda3\\lib\\site-packages\\seaborn\\distributions.py:2619: FutureWarning: `distplot` is a deprecated function and will be removed in a future version. Please adapt your code to use either `displot` (a figure-level function with similar flexibility) or `histplot` (an axes-level function for histograms).\n",
      "  warnings.warn(msg, FutureWarning)\n"
     ]
    },
    {
     "data": {
      "text/plain": [
       "<AxesSubplot:ylabel='Density'>"
      ]
     },
     "execution_count": 22,
     "metadata": {},
     "output_type": "execute_result"
    },
    {
     "data": {
      "image/png": "[encoded data removed]",
      "text/plain": [
       "<Figure size 640x480 with 1 Axes>"
      ]
     },
     "metadata": {},
     "output_type": "display_data"
    }
   ],
   "source": [
    "sns.distplot(sample_mean)"
   ]
  },
  {
   "cell_type": "code",
   "execution_count": 23,
   "id": "3ef6db2f",
   "metadata": {},
   "outputs": [],
   "source": [
    "sample_mean=[]\n",
    "for i in range(1,101):\n",
    "    sample=np.random.choice(population,size=size)\n",
    "    sample_mean.append(np.mean(sample))"
   ]
  },
  {
   "cell_type": "code",
   "execution_count": 24,
   "id": "4b7b16b2",
   "metadata": {},
   "outputs": [
    {
     "name": "stderr",
     "output_type": "stream",
     "text": [
      "C:\\Users\\devas\\anaconda3\\lib\\site-packages\\seaborn\\distributions.py:2619: FutureWarning: `distplot` is a deprecated function and will be removed in a future version. Please adapt your code to use either `displot` (a figure-level function with similar flexibility) or `histplot` (an axes-level function for histograms).\n",
      "  warnings.warn(msg, FutureWarning)\n"
     ]
    },
    {
     "data": {
      "text/plain": [
       "<AxesSubplot:ylabel='Density'>"
      ]
     },
     "execution_count": 24,
     "metadata": {},
     "output_type": "execute_result"
    },
    {
     "data": {
      "image/png": "[encoded data removed]",
      "text/plain": [
       "<Figure size 640x480 with 1 Axes>"
      ]
     },
     "metadata": {},
     "output_type": "display_data"
    }
   ],
   "source": [
    "sns.distplot(sample_mean)"
   ]
  },
  {
   "cell_type": "markdown",
   "id": "86fcd61f",
   "metadata": {},
   "source": [
    "## As the number of samples increase the plot gets more and more normal!!"
   ]
  },
  {
   "cell_type": "code",
   "execution_count": 25,
   "id": "384637ed",
   "metadata": {},
   "outputs": [],
   "source": [
    "sample_mean=[]\n",
    "for i in range(1,1000):\n",
    "    sample=np.random.choice(population,size=size)\n",
    "    sample_mean.append(np.mean(sample))"
   ]
  },
  {
   "cell_type": "code",
   "execution_count": 26,
   "id": "be8bd378",
   "metadata": {},
   "outputs": [
    {
     "name": "stderr",
     "output_type": "stream",
     "text": [
      "C:\\Users\\devas\\anaconda3\\lib\\site-packages\\seaborn\\distributions.py:2619: FutureWarning: `distplot` is a deprecated function and will be removed in a future version. Please adapt your code to use either `displot` (a figure-level function with similar flexibility) or `histplot` (an axes-level function for histograms).\n",
      "  warnings.warn(msg, FutureWarning)\n"
     ]
    },
    {
     "data": {
      "text/plain": [
       "<AxesSubplot:ylabel='Density'>"
      ]
     },
     "execution_count": 26,
     "metadata": {},
     "output_type": "execute_result"
    },
    {
     "data": {
      "image/png": "[encoded data removed]",
      "text/plain": [
       "<Figure size 640x480 with 1 Axes>"
      ]
     },
     "metadata": {},
     "output_type": "display_data"
    }
   ],
   "source": [
    "sns.distplot(sample_mean,kde=True,color='black')"
   ]
  },
  {
   "cell_type": "markdown",
   "id": "cfd26553",
   "metadata": {},
   "source": [
    "## Confidence Interval and Margin of Error:"
   ]
  },
  {
   "cell_type": "code",
   "execution_count": 27,
   "id": "357d0762",
   "metadata": {},
   "outputs": [],
   "source": [
    "import scipy.stats as stats"
   ]
  },
  {
   "cell_type": "code",
   "execution_count": 28,
   "id": "ba512032",
   "metadata": {},
   "outputs": [],
   "source": [
    "population=np.random.randint(10,20,50)"
   ]
  },
  {
   "cell_type": "code",
   "execution_count": 29,
   "id": "9c31c389",
   "metadata": {},
   "outputs": [
    {
     "data": {
      "text/plain": [
       "array([11, 16, 19, 16, 16, 11, 13, 11, 13, 18, 18, 19, 14, 10, 15, 10, 16,\n",
       "       13, 11, 16, 12, 18, 15, 12, 17, 18, 13, 11, 14, 17, 17, 13, 14, 15,\n",
       "       11, 16, 14, 13, 16, 11, 15, 10, 13, 13, 13, 14, 15, 13, 17, 11])"
      ]
     },
     "execution_count": 29,
     "metadata": {},
     "output_type": "execute_result"
    }
   ],
   "source": [
    "population"
   ]
  },
  {
   "cell_type": "code",
   "execution_count": 30,
   "id": "5fb1e143",
   "metadata": {},
   "outputs": [],
   "source": [
    "sample1=np.random.choice(population,20)\n",
    "sample2=np.random.choice(population,20)\n",
    "sample3=np.random.choice(population,20)\n",
    "sample4=np.random.choice(population,20)"
   ]
  },
  {
   "cell_type": "code",
   "execution_count": 31,
   "id": "f6e10043",
   "metadata": {},
   "outputs": [],
   "source": [
    "mean_of_samples=[]\n",
    "\n",
    "all_sample=[sample1,sample2,sample3,sample4]\n",
    "\n",
    "for sample in all_sample:\n",
    "    mean_of_samples.append(np.mean(sample))"
   ]
  },
  {
   "cell_type": "code",
   "execution_count": 32,
   "id": "657d539a",
   "metadata": {},
   "outputs": [
    {
     "data": {
      "text/plain": [
       "1.6448536269514722"
      ]
     },
     "execution_count": 32,
     "metadata": {},
     "output_type": "execute_result"
    }
   ],
   "source": [
    "stats.norm.ppf(q=0.95)"
   ]
  },
  {
   "cell_type": "code",
   "execution_count": 33,
   "id": "523234fc",
   "metadata": {},
   "outputs": [
    {
     "data": {
      "text/plain": [
       "1.959963984540054"
      ]
     },
     "execution_count": 33,
     "metadata": {},
     "output_type": "execute_result"
    }
   ],
   "source": [
    "stats.norm.ppf(q=0.975)"
   ]
  },
  {
   "cell_type": "code",
   "execution_count": 34,
   "id": "7d112669",
   "metadata": {},
   "outputs": [
    {
     "data": {
      "text/plain": [
       "2.3263478740408408"
      ]
     },
     "execution_count": 34,
     "metadata": {},
     "output_type": "execute_result"
    }
   ],
   "source": [
    "stats.norm.ppf(q=0.99)"
   ]
  },
  {
   "cell_type": "code",
   "execution_count": 35,
   "id": "e80822bb",
   "metadata": {},
   "outputs": [],
   "source": [
    "z_critical=stats.norm.ppf(q=0.975)"
   ]
  },
  {
   "cell_type": "code",
   "execution_count": 36,
   "id": "b43ae027",
   "metadata": {},
   "outputs": [],
   "source": [
    "t_critical=stats.t.ppf(q=0.975,df=24)"
   ]
  },
  {
   "cell_type": "code",
   "execution_count": 37,
   "id": "188151b9",
   "metadata": {},
   "outputs": [],
   "source": [
    "margin_of_error=z_critical*(np.std(mean_of_samples)/np.sqrt(20))"
   ]
  },
  {
   "cell_type": "code",
   "execution_count": 38,
   "id": "a7053b1a",
   "metadata": {},
   "outputs": [
    {
     "data": {
      "text/plain": [
       "14.05488325757349"
      ]
     },
     "execution_count": 38,
     "metadata": {},
     "output_type": "execute_result"
    }
   ],
   "source": [
    "np.mean(mean_of_samples)-margin_of_error"
   ]
  },
  {
   "cell_type": "code",
   "execution_count": 39,
   "id": "7555283e",
   "metadata": {},
   "outputs": [
    {
     "data": {
      "text/plain": [
       "14.52011674242651"
      ]
     },
     "execution_count": 39,
     "metadata": {},
     "output_type": "execute_result"
    }
   ],
   "source": [
    "np.mean(mean_of_samples)+margin_of_error"
   ]
  },
  {
   "cell_type": "markdown",
   "id": "3b56416c",
   "metadata": {},
   "source": [
    "## Z-Test"
   ]
  },
  {
   "cell_type": "code",
   "execution_count": 40,
   "id": "60a33a26",
   "metadata": {},
   "outputs": [],
   "source": [
    "from numpy.random import randn\n",
    "population=randn(100)"
   ]
  },
  {
   "cell_type": "code",
   "execution_count": 41,
   "id": "f1114d86",
   "metadata": {},
   "outputs": [
    {
     "data": {
      "text/plain": [
       "array([ 0.16667322,  1.35567455, -1.75203042, -0.52644791, -0.17155189,\n",
       "        0.63750883,  0.60220563,  1.38477414,  0.33445901, -1.30771297,\n",
       "        2.0061236 ,  2.1473707 , -1.35243637, -0.23476096, -1.0405354 ,\n",
       "       -0.75754482, -1.85025678,  1.85135553,  0.44069201, -1.01916716,\n",
       "       -1.33228419, -0.77661919,  0.12407204,  0.82326027, -0.94280945,\n",
       "        0.76672547, -0.99425811,  1.36401644, -0.5866644 ,  1.02545213,\n",
       "        0.01038668,  0.69303677, -0.30649429,  0.28140963, -0.51894137,\n",
       "        0.08358246,  1.05454072,  1.70570195,  0.00313629,  0.03129437,\n",
       "       -1.94277049, -1.24745423,  0.55222248,  0.96651716,  1.49524122,\n",
       "       -2.43091463, -1.21166506, -0.86246877, -0.04914589, -0.02833725,\n",
       "        1.17604558,  0.23950148, -0.13783463,  0.7153279 ,  0.13652194,\n",
       "       -2.32666241, -1.3198665 , -0.2494531 ,  0.36535459, -1.71023788,\n",
       "        0.66385721,  1.71597928, -0.73856169,  0.16721896, -1.9257486 ,\n",
       "       -0.13374495,  0.53832531,  0.10102829, -0.13080874, -0.75203017,\n",
       "        0.73845442, -0.11642869, -1.30412942,  1.97602319,  0.68228816,\n",
       "        0.32852335, -0.19272021,  0.4545561 ,  1.58041195,  0.28724069,\n",
       "        0.59432563,  0.80510127, -1.95722973,  1.51319247,  0.00739601,\n",
       "       -0.17527672,  0.49719684,  0.36222522,  0.56939725,  1.41085798,\n",
       "       -1.12713082,  0.07104303,  1.43763674,  1.75046964,  0.89993753,\n",
       "       -0.94782255,  1.23270403, -0.69910014,  1.82750526, -1.600602  ])"
      ]
     },
     "execution_count": 41,
     "metadata": {},
     "output_type": "execute_result"
    }
   ],
   "source": [
    "population"
   ]
  },
  {
   "cell_type": "code",
   "execution_count": 42,
   "id": "1f7816cc",
   "metadata": {},
   "outputs": [
    {
     "name": "stderr",
     "output_type": "stream",
     "text": [
      "C:\\Users\\devas\\anaconda3\\lib\\site-packages\\seaborn\\distributions.py:2619: FutureWarning: `distplot` is a deprecated function and will be removed in a future version. Please adapt your code to use either `displot` (a figure-level function with similar flexibility) or `histplot` (an axes-level function for histograms).\n",
      "  warnings.warn(msg, FutureWarning)\n"
     ]
    },
    {
     "data": {
      "text/plain": [
       "<AxesSubplot:ylabel='Density'>"
      ]
     },
     "execution_count": 42,
     "metadata": {},
     "output_type": "execute_result"
    },
    {
     "data": {
      "image/png": "[encoded data removed]",
      "text/plain": [
       "<Figure size 640x480 with 1 Axes>"
      ]
     },
     "metadata": {},
     "output_type": "display_data"
    }
   ],
   "source": [
    "sns.distplot(population)"
   ]
  },
  {
   "cell_type": "code",
   "execution_count": 43,
   "id": "8c828216",
   "metadata": {},
   "outputs": [
    {
     "name": "stdout",
     "output_type": "stream",
     "text": [
      "Here is a mean of the population: 0.0596441959869462 and here is the standard deviation: 1.0797960587878552.\n"
     ]
    }
   ],
   "source": [
    "print(f\"Here is a mean of the population: {np.mean(population)} and here is the standard deviation: {np.std(population)}.\")"
   ]
  },
  {
   "cell_type": "code",
   "execution_count": 44,
   "id": "ce7ee431",
   "metadata": {},
   "outputs": [],
   "source": [
    "#C.I=95%\n",
    "#ALPHA=0.05(5%)"
   ]
  },
  {
   "cell_type": "code",
   "execution_count": 45,
   "id": "a413d5e9",
   "metadata": {},
   "outputs": [],
   "source": [
    "#If P<=0.05 #REJECT THE NULL HYPOTHESIS"
   ]
  },
  {
   "cell_type": "code",
   "execution_count": 46,
   "id": "433356f6",
   "metadata": {},
   "outputs": [],
   "source": [
    " #If P>0.05 #YOU ARE GOING TO ACCEPT THE NULL HYPOTHESIS"
   ]
  },
  {
   "cell_type": "code",
   "execution_count": 47,
   "id": "4b5e1aa6",
   "metadata": {},
   "outputs": [],
   "source": [
    "null_mean=0.07"
   ]
  },
  {
   "cell_type": "code",
   "execution_count": 48,
   "id": "89aa02c7",
   "metadata": {},
   "outputs": [],
   "source": [
    "from statsmodels.stats.weightstats import ztest\n",
    "z_score,p_value=ztest(population,value=null_mean,alternative='larger')"
   ]
  },
  {
   "cell_type": "code",
   "execution_count": 49,
   "id": "4caaf259",
   "metadata": {},
   "outputs": [],
   "source": [
    "#p_value=0.05\n",
    "ALPHA=0.05"
   ]
  },
  {
   "cell_type": "code",
   "execution_count": 50,
   "id": "22ba8a53",
   "metadata": {},
   "outputs": [
    {
     "name": "stdout",
     "output_type": "stream",
     "text": [
      "We fail to reject the null hypothesis!\n"
     ]
    }
   ],
   "source": [
    "if (p_value<ALPHA).all():\n",
    "    print(\"Reject the null hypothesis\")\n",
    "else:\n",
    "    print(\"We fail to reject the null hypothesis!\")"
   ]
  },
  {
   "cell_type": "code",
   "execution_count": 51,
   "id": "b620960c",
   "metadata": {},
   "outputs": [
    {
     "data": {
      "text/plain": [
       "0.5380111532429871"
      ]
     },
     "execution_count": 51,
     "metadata": {},
     "output_type": "execute_result"
    }
   ],
   "source": [
    "p_value"
   ]
  },
  {
   "cell_type": "markdown",
   "id": "a978931e",
   "metadata": {},
   "source": [
    "## Agenda : Normality,Z-Test,T-Test,ANOVA Test"
   ]
  },
  {
   "cell_type": "code",
   "execution_count": 52,
   "id": "e4d2f477",
   "metadata": {},
   "outputs": [],
   "source": [
    "import pandas as pd\n",
    "data=pd.read_csv(\"https://raw.githubusercontent.com/shrikant-temburwar/Wine-Quality-Dataset/master/winequality-red.csv\",sep=';')"
   ]
  },
  {
   "cell_type": "code",
   "execution_count": 53,
   "id": "2264cc5e",
   "metadata": {},
   "outputs": [
    {
     "data": {
      "text/html": [
       "<div>\n",
       "<style scoped>\n",
       "    .dataframe tbody tr th:only-of-type {\n",
       "        vertical-align: middle;\n",
       "    }\n",
       "\n",
       "    .dataframe tbody tr th {\n",
       "        vertical-align: top;\n",
       "    }\n",
       "\n",
       "    .dataframe thead th {\n",
       "        text-align: right;\n",
       "    }\n",
       "</style>\n",
       "<table border=\"1\" class=\"dataframe\">\n",
       "  <thead>\n",
       "    <tr style=\"text-align: right;\">\n",
       "      <th></th>\n",
       "      <th>fixed acidity</th>\n",
       "      <th>volatile acidity</th>\n",
       "      <th>citric acid</th>\n",
       "      <th>residual sugar</th>\n",
       "      <th>chlorides</th>\n",
       "      <th>free sulfur dioxide</th>\n",
       "      <th>total sulfur dioxide</th>\n",
       "      <th>density</th>\n",
       "      <th>pH</th>\n",
       "      <th>sulphates</th>\n",
       "      <th>alcohol</th>\n",
       "      <th>quality</th>\n",
       "    </tr>\n",
       "  </thead>\n",
       "  <tbody>\n",
       "    <tr>\n",
       "      <th>0</th>\n",
       "      <td>7.4</td>\n",
       "      <td>0.70</td>\n",
       "      <td>0.00</td>\n",
       "      <td>1.9</td>\n",
       "      <td>0.076</td>\n",
       "      <td>11.0</td>\n",
       "      <td>34.0</td>\n",
       "      <td>0.9978</td>\n",
       "      <td>3.51</td>\n",
       "      <td>0.56</td>\n",
       "      <td>9.4</td>\n",
       "      <td>5</td>\n",
       "    </tr>\n",
       "    <tr>\n",
       "      <th>1</th>\n",
       "      <td>7.8</td>\n",
       "      <td>0.88</td>\n",
       "      <td>0.00</td>\n",
       "      <td>2.6</td>\n",
       "      <td>0.098</td>\n",
       "      <td>25.0</td>\n",
       "      <td>67.0</td>\n",
       "      <td>0.9968</td>\n",
       "      <td>3.20</td>\n",
       "      <td>0.68</td>\n",
       "      <td>9.8</td>\n",
       "      <td>5</td>\n",
       "    </tr>\n",
       "    <tr>\n",
       "      <th>2</th>\n",
       "      <td>7.8</td>\n",
       "      <td>0.76</td>\n",
       "      <td>0.04</td>\n",
       "      <td>2.3</td>\n",
       "      <td>0.092</td>\n",
       "      <td>15.0</td>\n",
       "      <td>54.0</td>\n",
       "      <td>0.9970</td>\n",
       "      <td>3.26</td>\n",
       "      <td>0.65</td>\n",
       "      <td>9.8</td>\n",
       "      <td>5</td>\n",
       "    </tr>\n",
       "    <tr>\n",
       "      <th>3</th>\n",
       "      <td>11.2</td>\n",
       "      <td>0.28</td>\n",
       "      <td>0.56</td>\n",
       "      <td>1.9</td>\n",
       "      <td>0.075</td>\n",
       "      <td>17.0</td>\n",
       "      <td>60.0</td>\n",
       "      <td>0.9980</td>\n",
       "      <td>3.16</td>\n",
       "      <td>0.58</td>\n",
       "      <td>9.8</td>\n",
       "      <td>6</td>\n",
       "    </tr>\n",
       "    <tr>\n",
       "      <th>4</th>\n",
       "      <td>7.4</td>\n",
       "      <td>0.70</td>\n",
       "      <td>0.00</td>\n",
       "      <td>1.9</td>\n",
       "      <td>0.076</td>\n",
       "      <td>11.0</td>\n",
       "      <td>34.0</td>\n",
       "      <td>0.9978</td>\n",
       "      <td>3.51</td>\n",
       "      <td>0.56</td>\n",
       "      <td>9.4</td>\n",
       "      <td>5</td>\n",
       "    </tr>\n",
       "  </tbody>\n",
       "</table>\n",
       "</div>"
      ],
      "text/plain": [
       "   fixed acidity  volatile acidity  citric acid  residual sugar  chlorides  \\\n",
       "0            7.4              0.70         0.00             1.9      0.076   \n",
       "1            7.8              0.88         0.00             2.6      0.098   \n",
       "2            7.8              0.76         0.04             2.3      0.092   \n",
       "3           11.2              0.28         0.56             1.9      0.075   \n",
       "4            7.4              0.70         0.00             1.9      0.076   \n",
       "\n",
       "   free sulfur dioxide  total sulfur dioxide  density    pH  sulphates  \\\n",
       "0                 11.0                  34.0   0.9978  3.51       0.56   \n",
       "1                 25.0                  67.0   0.9968  3.20       0.68   \n",
       "2                 15.0                  54.0   0.9970  3.26       0.65   \n",
       "3                 17.0                  60.0   0.9980  3.16       0.58   \n",
       "4                 11.0                  34.0   0.9978  3.51       0.56   \n",
       "\n",
       "   alcohol  quality  \n",
       "0      9.4        5  \n",
       "1      9.8        5  \n",
       "2      9.8        5  \n",
       "3      9.8        6  \n",
       "4      9.4        5  "
      ]
     },
     "execution_count": 53,
     "metadata": {},
     "output_type": "execute_result"
    }
   ],
   "source": [
    "data.head()"
   ]
  },
  {
   "cell_type": "code",
   "execution_count": 54,
   "id": "2ef77eb4",
   "metadata": {},
   "outputs": [
    {
     "data": {
      "text/plain": [
       "0       0.700\n",
       "1       0.880\n",
       "2       0.760\n",
       "3       0.280\n",
       "4       0.700\n",
       "        ...  \n",
       "1594    0.600\n",
       "1595    0.550\n",
       "1596    0.510\n",
       "1597    0.645\n",
       "1598    0.310\n",
       "Name: volatile acidity, Length: 1599, dtype: float64"
      ]
     },
     "execution_count": 54,
     "metadata": {},
     "output_type": "execute_result"
    }
   ],
   "source": [
    "data['volatile acidity']"
   ]
  },
  {
   "cell_type": "code",
   "execution_count": 55,
   "id": "ad510615",
   "metadata": {},
   "outputs": [
    {
     "name": "stderr",
     "output_type": "stream",
     "text": [
      "C:\\Users\\devas\\anaconda3\\lib\\site-packages\\seaborn\\distributions.py:2619: FutureWarning: `distplot` is a deprecated function and will be removed in a future version. Please adapt your code to use either `displot` (a figure-level function with similar flexibility) or `histplot` (an axes-level function for histograms).\n",
      "  warnings.warn(msg, FutureWarning)\n"
     ]
    },
    {
     "data": {
      "text/plain": [
       "<AxesSubplot:xlabel='volatile acidity', ylabel='Density'>"
      ]
     },
     "execution_count": 55,
     "metadata": {},
     "output_type": "execute_result"
    },
    {
     "data": {
      "image/png": "[encoded data removed]",
      "text/plain": [
       "<Figure size 640x480 with 1 Axes>"
      ]
     },
     "metadata": {},
     "output_type": "display_data"
    }
   ],
   "source": [
    "import seaborn as sns\n",
    "sns.distplot(data['volatile acidity'])"
   ]
  },
  {
   "cell_type": "code",
   "execution_count": 56,
   "id": "08e138cc",
   "metadata": {},
   "outputs": [
    {
     "name": "stderr",
     "output_type": "stream",
     "text": [
      "C:\\Users\\devas\\anaconda3\\lib\\site-packages\\seaborn\\distributions.py:2619: FutureWarning: `distplot` is a deprecated function and will be removed in a future version. Please adapt your code to use either `displot` (a figure-level function with similar flexibility) or `histplot` (an axes-level function for histograms).\n",
      "  warnings.warn(msg, FutureWarning)\n"
     ]
    },
    {
     "data": {
      "text/plain": [
       "<AxesSubplot:xlabel='citric acid', ylabel='Density'>"
      ]
     },
     "execution_count": 56,
     "metadata": {},
     "output_type": "execute_result"
    },
    {
     "data": {
      "image/png": "[encoded data removed]",
      "text/plain": [
       "<Figure size 640x480 with 1 Axes>"
      ]
     },
     "metadata": {},
     "output_type": "display_data"
    }
   ],
   "source": [
    "sns.distplot(data['citric acid'],kde=True,color='red')"
   ]
  },
  {
   "cell_type": "markdown",
   "id": "defe2712",
   "metadata": {},
   "source": [
    "## Shapiro Test For Normality : If p-value>0.05 , Then data is normal, if less then non-normal. "
   ]
  },
  {
   "cell_type": "code",
   "execution_count": 57,
   "id": "c503237c",
   "metadata": {},
   "outputs": [
    {
     "data": {
      "text/plain": [
       "ShapiroResult(statistic=0.9743338823318481, pvalue=2.686385373947307e-16)"
      ]
     },
     "execution_count": 57,
     "metadata": {},
     "output_type": "execute_result"
    }
   ],
   "source": [
    "from scipy import stats\n",
    "stats.shapiro(data['volatile acidity'])"
   ]
  },
  {
   "cell_type": "code",
   "execution_count": 58,
   "id": "fe583f6d",
   "metadata": {},
   "outputs": [
    {
     "data": {
      "text/plain": [
       "ShapiroResult(statistic=0.955294668674469, pvalue=1.0233944777578548e-21)"
      ]
     },
     "execution_count": 58,
     "metadata": {},
     "output_type": "execute_result"
    }
   ],
   "source": [
    "stats.shapiro(data['citric acid'])"
   ]
  },
  {
   "cell_type": "code",
   "execution_count": 59,
   "id": "e0e73fc0",
   "metadata": {},
   "outputs": [],
   "source": [
    "from numpy.random import randn\n",
    "mydata=randn(500)"
   ]
  },
  {
   "cell_type": "code",
   "execution_count": 60,
   "id": "87141fd8",
   "metadata": {},
   "outputs": [
    {
     "data": {
      "text/plain": [
       "array([-5.07481949e-01,  1.16946572e+00,  3.03659449e-02, -7.41871676e-01,\n",
       "       -2.38787846e-01,  3.60089826e-01,  1.49549606e+00, -7.14270106e-01,\n",
       "       -4.15906449e-01, -4.35586814e-01, -1.14178643e+00, -4.43456759e-01,\n",
       "        2.62384230e-01,  3.45767690e-01, -9.70642197e-01, -1.76223740e+00,\n",
       "       -1.47621557e-01, -2.82462324e+00,  9.77029008e-01, -2.11549605e-01,\n",
       "        7.72397608e-02,  4.03400760e-01, -6.09150557e-01, -1.38207885e+00,\n",
       "        1.94430027e+00,  8.55173626e-01,  3.37687868e-01, -9.74234457e-02,\n",
       "        2.02711641e+00, -4.66598566e-01,  6.25803423e-02, -9.71954440e-01,\n",
       "       -2.18067529e-01, -1.34592345e+00, -1.22589490e+00, -3.79756536e-01,\n",
       "        8.87861481e-01, -9.59956477e-01, -1.59260722e+00, -7.92271758e-01,\n",
       "        6.37125828e-01,  4.51040343e-01, -5.56233425e-01, -1.22565949e-01,\n",
       "       -3.80866955e-01, -1.28124101e+00,  1.20299219e+00,  1.64865536e+00,\n",
       "       -1.24217767e+00,  1.55747930e+00,  1.16742491e+00, -5.45078236e-01,\n",
       "        1.79629808e+00,  2.41601943e-01, -5.26948357e-01,  7.16951078e-03,\n",
       "       -1.63826693e+00,  1.21644447e+00,  2.06436443e+00, -4.04615631e-01,\n",
       "        7.18523062e-01, -9.73028393e-01,  4.50104704e-01,  2.12168503e-01,\n",
       "       -3.82690790e-01,  1.82177241e+00,  6.31231034e-01,  1.06576466e+00,\n",
       "       -9.84994693e-01,  1.01069258e-01,  1.57926572e+00,  2.70294564e-01,\n",
       "       -2.65833977e-01,  6.47450033e-01,  5.32271929e-01, -1.08748255e+00,\n",
       "       -1.00969529e+00, -8.94145537e-01,  5.80587673e-01,  1.12060743e+00,\n",
       "        3.71769025e-01,  6.28736879e-01,  3.46201413e-01, -2.13324030e+00,\n",
       "       -1.21585103e+00,  2.13543725e-03, -2.04305056e+00, -1.94877561e+00,\n",
       "        5.29210532e-01, -1.24844289e-01,  7.16036537e-01, -1.60429452e+00,\n",
       "       -2.15026966e+00, -9.79695863e-01,  4.38854029e-01, -1.00778117e+00,\n",
       "       -1.05637184e-01,  5.46886309e-01,  3.88036095e-02, -1.19156352e-01,\n",
       "        9.25678925e-01,  7.68910975e-01,  5.26918571e-01, -1.34698472e+00,\n",
       "        9.41156735e-02,  1.78114608e-01,  4.60095303e-01,  1.46881130e+00,\n",
       "        2.90176973e-01, -1.04803053e+00, -7.67036852e-01,  3.68178788e-01,\n",
       "       -1.20712586e+00, -2.04286362e+00, -3.16323733e-01,  2.86988455e-01,\n",
       "        5.72346312e-01,  9.21175710e-01, -7.39937297e-01, -4.27883089e-01,\n",
       "        1.23534309e+00, -8.75351484e-01,  8.02081390e-01,  9.63086783e-01,\n",
       "        6.61278182e-01, -2.01398940e+00,  1.90192277e-01,  1.38431075e+00,\n",
       "       -1.22925412e+00, -1.50804879e+00, -3.39206570e-01,  1.17442044e+00,\n",
       "       -2.01823290e+00, -8.64367589e-01, -9.88373146e-02,  4.90759801e-01,\n",
       "        3.38433196e-01, -7.20845127e-01, -1.33588433e-01,  1.75150208e+00,\n",
       "       -1.39931309e+00,  4.94447575e-01, -9.07651140e-01, -1.16794895e+00,\n",
       "       -1.10461677e+00,  6.05891101e-02, -1.89763534e+00, -8.68765280e-01,\n",
       "        2.61071230e+00,  7.26346401e-01,  1.14499031e+00,  3.47691328e-01,\n",
       "        4.65622613e-01, -3.30776735e-01,  7.83121885e-01, -4.58092530e-01,\n",
       "       -9.81951509e-01,  9.59567258e-01, -1.44299399e+00, -3.64556761e-02,\n",
       "       -9.86357939e-01, -7.37056233e-01, -1.45191774e+00, -3.57642295e-01,\n",
       "       -1.26384667e+00,  9.11937393e-02, -7.03989281e-01,  3.06286602e-01,\n",
       "       -3.98854180e-01,  1.11536502e+00, -4.87932612e-01, -3.69823098e-01,\n",
       "        8.05000965e-01, -1.64267794e-01, -1.95541423e-01, -5.17842947e-03,\n",
       "       -2.70583008e-01,  1.30138469e+00, -3.54279420e-02, -1.75743339e+00,\n",
       "        1.56141790e+00, -3.13526147e-01, -1.63710176e-01,  2.24841508e-01,\n",
       "        2.98907123e-01,  4.10014485e-01,  1.14518242e+00,  1.00852917e+00,\n",
       "        1.32694481e+00, -1.23139299e+00,  1.07194255e+00,  4.76416244e-01,\n",
       "       -2.91027417e-01, -1.22787616e+00, -1.59455447e+00, -1.45471819e-01,\n",
       "        1.14367149e+00,  6.33078967e-01, -6.93950957e-01, -5.11720325e-01,\n",
       "        1.18241646e-02, -6.59420656e-01,  4.47288653e-01,  8.50225295e-01,\n",
       "       -2.58666270e-01, -6.05884748e-01, -4.53429195e-01, -1.23118158e+00,\n",
       "        2.78563390e-01,  8.32909964e-01,  2.07351250e-01,  1.48273644e+00,\n",
       "        1.38696077e+00,  3.62686290e-01,  9.60291495e-01, -1.19800028e+00,\n",
       "        1.15569776e+00, -1.13293775e+00, -2.87075614e-01,  1.08210909e+00,\n",
       "       -1.24430083e+00,  2.83277799e-01, -6.21991135e-01,  1.09316774e-01,\n",
       "        8.55008528e-01,  9.87056192e-01, -8.29910087e-01, -3.57626453e-02,\n",
       "        1.78367579e-01,  4.51322560e-01, -9.65198095e-02, -2.83041123e+00,\n",
       "       -9.47309473e-01, -1.21008460e+00,  4.15303419e-01,  1.46358053e-01,\n",
       "        3.27677502e-01, -2.85202812e+00, -1.16725245e+00,  5.72199917e-01,\n",
       "       -1.93746394e-01,  5.17595793e-01,  1.85972010e-01, -9.90127815e-01,\n",
       "       -8.06525961e-01,  2.06538171e-02, -1.36224695e+00,  2.61525395e-01,\n",
       "        9.33017450e-01,  6.69865767e-01,  1.36662983e+00, -5.30191498e-01,\n",
       "        6.67835178e-01,  4.35541899e-01, -1.43190885e+00, -1.24943070e+00,\n",
       "        8.56442322e-01, -7.05760254e-01, -9.56367479e-01, -2.19328703e-01,\n",
       "       -5.37364904e-01, -3.64041592e-01, -2.78404449e-01, -1.85237292e-01,\n",
       "        1.09691400e+00,  4.42809070e-01,  6.97350273e-01,  3.98402740e-01,\n",
       "        7.46870638e-01,  7.13584800e-01, -3.42047700e-02, -9.14884801e-01,\n",
       "        2.09441321e+00,  1.31956858e-01,  2.31622920e-02,  1.32577150e+00,\n",
       "       -2.39026191e-01,  4.28948226e-01, -2.42034524e-01, -1.49340882e-01,\n",
       "        3.94201674e-01,  7.54782098e-01,  1.33060306e+00,  1.03970604e+00,\n",
       "       -9.59376356e-01,  1.06510277e+00, -1.63268724e+00, -1.90291309e+00,\n",
       "       -1.00731427e-01,  8.91734430e-01,  1.52395242e+00,  1.69310201e-01,\n",
       "        2.60263800e-01, -4.83987264e-01,  1.15599187e+00,  7.10047300e-01,\n",
       "        1.26146942e+00,  2.12986662e+00,  7.50635311e-01,  2.29332993e+00,\n",
       "       -1.36588049e+00,  7.39543809e-01,  1.58855572e+00, -7.42653938e-01,\n",
       "        3.17822640e-01, -3.84845141e-02, -1.32689992e+00,  4.14792639e-01,\n",
       "        1.12256121e-01,  1.67401107e-03,  2.63592021e-01,  1.78850775e+00,\n",
       "       -6.81150970e-01,  1.25625424e+00,  1.03368831e+00,  1.27593493e+00,\n",
       "        6.14507622e-01, -1.52859794e+00,  8.57596632e-01, -2.53391918e-02,\n",
       "        7.12969686e-01,  9.33481399e-01,  1.38081071e+00,  5.93255526e-01,\n",
       "       -1.72688902e-01,  4.06203123e-01,  2.92266372e-01,  1.91894482e-01,\n",
       "       -3.67581666e-01,  6.37127917e-04, -1.03973456e+00,  3.24401857e-01,\n",
       "       -9.68874847e-01, -1.05095958e+00,  5.46269478e-01,  3.61234901e-01,\n",
       "       -2.58321518e+00,  2.57666837e-01,  3.18333966e-01,  7.60615970e-01,\n",
       "       -4.99461207e-01, -1.14649606e+00,  1.23126069e+00, -7.45918381e-01,\n",
       "        1.27412696e+00, -1.05663828e+00, -1.40480374e+00, -5.92801412e-01,\n",
       "        1.07648530e+00, -1.03218906e-01,  4.03936727e-01,  2.62665673e-01,\n",
       "        1.08680483e+00,  8.22619758e-01, -7.43950785e-01,  1.39916488e+00,\n",
       "       -9.95484513e-01,  2.10770735e+00, -6.50414938e-02, -1.02981764e+00,\n",
       "        2.21768271e-01, -1.62668333e+00, -6.55172220e-01,  6.82784150e-01,\n",
       "       -8.58364387e-02, -1.70038267e+00,  4.71229487e-01, -8.29956080e-01,\n",
       "        1.89433419e-01, -1.56261926e+00,  3.14738650e-01,  6.14594304e-01,\n",
       "        1.55934926e-01,  3.11218228e-01,  5.53098904e-02, -1.22720657e+00,\n",
       "        3.76842884e-01, -8.25557736e-01, -2.41164759e+00, -2.02941989e+00,\n",
       "       -1.97039668e+00, -4.10107616e-01,  7.89425355e-01,  2.85363255e-01,\n",
       "       -2.43242897e+00, -5.78938136e-01,  4.24634714e-01,  1.18798269e+00,\n",
       "        8.50559934e-01, -1.19549888e+00, -8.16359398e-01, -7.55948239e-01,\n",
       "        6.64284991e-01,  1.78681260e-02, -1.72267292e+00, -3.97184858e-01,\n",
       "        1.86547217e+00,  5.58201965e-01,  8.01108101e-02,  2.05009852e-01,\n",
       "        2.42608880e-01,  3.05351052e-01,  6.51789428e-01,  8.06099809e-01,\n",
       "       -7.39562047e-01,  3.65890838e-01, -9.42696970e-01,  5.55425994e-01,\n",
       "       -2.03621882e-01, -4.78401633e-01, -4.11887469e-01,  1.58155959e-01,\n",
       "       -1.50840540e-01,  3.69771351e-01, -2.51486322e-01,  4.54925837e-01,\n",
       "       -1.63805186e-01,  7.41349363e-01, -1.04372240e+00,  2.92286859e-01,\n",
       "        9.62735382e-02,  8.96881084e-01, -1.32820573e+00,  3.45108334e-02,\n",
       "        5.08648321e-01,  1.89693434e+00, -1.69417857e+00, -4.61930576e-01,\n",
       "        1.06563479e+00, -2.85884649e-01,  4.92769795e-01,  1.01031958e+00,\n",
       "        7.16916037e-01, -8.84438359e-01,  7.31013671e-01,  6.61096517e-01,\n",
       "       -1.39774294e+00, -1.00334404e+00,  1.65338380e+00,  9.98534073e-01,\n",
       "        1.00650532e+00,  4.61581542e-01, -1.48634635e+00, -7.14420090e-01,\n",
       "       -4.60205015e-01,  6.76959295e-01, -9.27339034e-01,  3.87146497e-02,\n",
       "       -1.16194551e+00, -8.74888749e-01,  1.97679090e+00, -7.27689602e-01,\n",
       "       -7.88323337e-01,  2.31560686e+00,  1.88664374e+00, -1.51195601e+00,\n",
       "       -7.63817859e-02,  8.99400476e-02, -2.21357038e+00,  1.78069544e-01,\n",
       "       -9.68852612e-01, -5.79902249e-01, -2.46057607e+00, -1.55860672e+00,\n",
       "        1.10041002e+00, -6.53838287e-01, -4.35898806e-01, -7.43148470e-01,\n",
       "       -5.76119302e-01, -2.55631683e+00,  1.57181515e+00, -7.50620581e-02,\n",
       "       -7.79043807e-01,  2.79054077e-01,  9.07832888e-01, -9.89303243e-01,\n",
       "       -1.42032262e+00,  6.71834704e-01, -9.08289165e-01, -1.47387496e+00,\n",
       "        8.02670029e-02,  1.23529163e+00,  3.30435795e-01, -5.32213101e-03,\n",
       "        1.17417389e+00, -8.58212945e-02, -1.00738421e+00, -9.48926970e-01,\n",
       "       -8.71224905e-01,  6.41919301e-01, -4.51303846e-02,  1.97244092e+00,\n",
       "        2.44452240e-01,  1.39292915e-01,  1.96345572e+00,  5.18006735e-01,\n",
       "       -1.49631387e+00, -6.83787178e-01,  1.76536752e+00,  8.15877953e-01])"
      ]
     },
     "execution_count": 60,
     "metadata": {},
     "output_type": "execute_result"
    }
   ],
   "source": [
    "mydata"
   ]
  },
  {
   "cell_type": "code",
   "execution_count": 61,
   "id": "cb5e5c36",
   "metadata": {},
   "outputs": [
    {
     "name": "stderr",
     "output_type": "stream",
     "text": [
      "C:\\Users\\devas\\anaconda3\\lib\\site-packages\\seaborn\\distributions.py:2619: FutureWarning: `distplot` is a deprecated function and will be removed in a future version. Please adapt your code to use either `displot` (a figure-level function with similar flexibility) or `histplot` (an axes-level function for histograms).\n",
      "  warnings.warn(msg, FutureWarning)\n"
     ]
    },
    {
     "data": {
      "text/plain": [
       "<AxesSubplot:ylabel='Density'>"
      ]
     },
     "execution_count": 61,
     "metadata": {},
     "output_type": "execute_result"
    },
    {
     "data": {
      "image/png": "[encoded data removed]",
      "text/plain": [
       "<Figure size 640x480 with 1 Axes>"
      ]
     },
     "metadata": {},
     "output_type": "display_data"
    }
   ],
   "source": [
    "sns.distplot(mydata,kde=True,color='red')"
   ]
  },
  {
   "cell_type": "code",
   "execution_count": 62,
   "id": "960c5a14",
   "metadata": {},
   "outputs": [],
   "source": [
    "result=stats.shapiro(mydata)"
   ]
  },
  {
   "cell_type": "code",
   "execution_count": 63,
   "id": "eaca0a55",
   "metadata": {},
   "outputs": [
    {
     "data": {
      "text/plain": [
       "ShapiroResult(statistic=0.9949158430099487, pvalue=0.09851863235235214)"
      ]
     },
     "execution_count": 63,
     "metadata": {},
     "output_type": "execute_result"
    }
   ],
   "source": [
    "result"
   ]
  },
  {
   "cell_type": "markdown",
   "id": "18521ce2",
   "metadata": {},
   "source": [
    "## Shapiro(Null-Hypothesis): Data is normally distributed!"
   ]
  },
  {
   "cell_type": "code",
   "execution_count": null,
   "id": "661eac21",
   "metadata": {},
   "outputs": [],
   "source": [
    "if p<=result[1]:\n",
    "    print('Reject the null hypothesis')\n",
    "else:\n",
    "    print(\"Accept the nul hypothesis\")"
   ]
  },
  {
   "cell_type": "code",
   "execution_count": 66,
   "id": "d8d96b4c",
   "metadata": {},
   "outputs": [
    {
     "data": {
      "text/plain": [
       "NormaltestResult(statistic=152.039214793795, pvalue=9.662822259281018e-34)"
      ]
     },
     "execution_count": 66,
     "metadata": {},
     "output_type": "execute_result"
    }
   ],
   "source": [
    "from scipy import stats\n",
    "stats.normaltest(data['citric acid'])"
   ]
  },
  {
   "cell_type": "code",
   "execution_count": 67,
   "id": "4d47ed00",
   "metadata": {},
   "outputs": [
    {
     "data": {
      "text/plain": [
       "NormaltestResult(statistic=152.039214793795, pvalue=9.662822259281018e-34)"
      ]
     },
     "execution_count": 67,
     "metadata": {},
     "output_type": "execute_result"
    }
   ],
   "source": [
    "stats.normaltest(data['citric acid'])"
   ]
  },
  {
   "cell_type": "code",
   "execution_count": null,
   "id": "3b6decc1",
   "metadata": {},
   "outputs": [],
   "source": []
  },
  {
   "cell_type": "code",
   "execution_count": 70,
   "id": "6aba49fc",
   "metadata": {},
   "outputs": [],
   "source": [
    "sample_mean_iq=110\n",
    "mean_std_dev=15\n",
    "mean_population=100\n",
    "alpha=0.05\n",
    "#ci=95%"
   ]
  },
  {
   "cell_type": "code",
   "execution_count": 72,
   "id": "93595d4a",
   "metadata": {},
   "outputs": [],
   "source": [
    "data=mean_std_dev*randn(50)+mean_population"
   ]
  },
  {
   "cell_type": "code",
   "execution_count": 73,
   "id": "793e740b",
   "metadata": {},
   "outputs": [
    {
     "data": {
      "text/plain": [
       "98.67158257002386"
      ]
     },
     "execution_count": 73,
     "metadata": {},
     "output_type": "execute_result"
    }
   ],
   "source": [
    "np.mean(data)"
   ]
  },
  {
   "cell_type": "code",
   "execution_count": 74,
   "id": "b99de6d4",
   "metadata": {},
   "outputs": [
    {
     "data": {
      "text/plain": [
       "13.458668841768418"
      ]
     },
     "execution_count": 74,
     "metadata": {},
     "output_type": "execute_result"
    }
   ],
   "source": [
    "np.std(data)"
   ]
  },
  {
   "cell_type": "code",
   "execution_count": 89,
   "id": "56c30f5e",
   "metadata": {},
   "outputs": [],
   "source": [
    "null_value=10"
   ]
  },
  {
   "cell_type": "code",
   "execution_count": 90,
   "id": "75f9fbe7",
   "metadata": {},
   "outputs": [
    {
     "data": {
      "text/plain": [
       "(46.11905421610844, 0.0)"
      ]
     },
     "execution_count": 90,
     "metadata": {},
     "output_type": "execute_result"
    }
   ],
   "source": [
    "from statsmodels.stats.weightstats import ztest\n",
    "ztest(data,value=null_value,alternative='larger')"
   ]
  },
  {
   "cell_type": "markdown",
   "id": "2392a017",
   "metadata": {},
   "source": [
    "## T_Test"
   ]
  },
  {
   "cell_type": "code",
   "execution_count": null,
   "id": "bc547a0b",
   "metadata": {},
   "outputs": [],
   "source": [
    "One-Sample t-test \n",
    "Two Sample t-test\n",
    "Paired t-test"
   ]
  },
  {
   "cell_type": "code",
   "execution_count": 96,
   "id": "9ef6d6e1",
   "metadata": {},
   "outputs": [],
   "source": [
    "import random \n",
    "population=np.random.randint(10,50,50)"
   ]
  },
  {
   "cell_type": "code",
   "execution_count": 99,
   "id": "2d8adaf5",
   "metadata": {},
   "outputs": [],
   "source": [
    "sample1=np.random.choice(population,20)"
   ]
  },
  {
   "cell_type": "code",
   "execution_count": 100,
   "id": "eb5aa949",
   "metadata": {},
   "outputs": [],
   "source": [
    "sample2=np.random.choice(population,20)"
   ]
  },
  {
   "cell_type": "code",
   "execution_count": 101,
   "id": "60bbf5a8",
   "metadata": {},
   "outputs": [
    {
     "data": {
      "text/plain": [
       "26.45"
      ]
     },
     "execution_count": 101,
     "metadata": {},
     "output_type": "execute_result"
    }
   ],
   "source": [
    "sample1.mean()"
   ]
  },
  {
   "cell_type": "code",
   "execution_count": 103,
   "id": "60e0e703",
   "metadata": {},
   "outputs": [
    {
     "data": {
      "text/plain": [
       "array([16, 23, 13, 14, 41, 37, 31, 14, 28, 31, 20, 24, 47, 32, 39, 41, 19,\n",
       "       24, 19, 16])"
      ]
     },
     "execution_count": 103,
     "metadata": {},
     "output_type": "execute_result"
    }
   ],
   "source": [
    "sample1"
   ]
  },
  {
   "cell_type": "code",
   "execution_count": 102,
   "id": "e59605f6",
   "metadata": {},
   "outputs": [
    {
     "data": {
      "text/plain": [
       "25.2"
      ]
     },
     "execution_count": 102,
     "metadata": {},
     "output_type": "execute_result"
    }
   ],
   "source": [
    "sample2.mean()"
   ]
  },
  {
   "cell_type": "code",
   "execution_count": 105,
   "id": "308f7480",
   "metadata": {},
   "outputs": [
    {
     "data": {
      "text/plain": [
       "array([16, 14, 32, 23, 37, 16, 45, 14, 32, 38, 18, 35, 20, 14, 13, 28, 14,\n",
       "       40, 19, 36])"
      ]
     },
     "execution_count": 105,
     "metadata": {},
     "output_type": "execute_result"
    }
   ],
   "source": [
    "sample2"
   ]
  },
  {
   "cell_type": "code",
   "execution_count": 104,
   "id": "fa9e510d",
   "metadata": {},
   "outputs": [],
   "source": [
    "my_crickect_score=[16, 23, 13, 14, 41, 37, 31, 14, 28, 31, 20, 24, 47, 32, 39, 41, 19,\n",
    "       24, 19, 16]"
   ]
  },
  {
   "cell_type": "code",
   "execution_count": 106,
   "id": "ece8d8a1",
   "metadata": {},
   "outputs": [],
   "source": [
    "virat_cricket_score=[40, 14, 32, 23, 37, 16, 45, 40, 32, 38, 18, 35, 20, 14, 13, 28, 45,\n",
    "       40, 19, 36]"
   ]
  },
  {
   "cell_type": "code",
   "execution_count": 107,
   "id": "e24d06ce",
   "metadata": {},
   "outputs": [
    {
     "data": {
      "text/plain": [
       "29.25"
      ]
     },
     "execution_count": 107,
     "metadata": {},
     "output_type": "execute_result"
    }
   ],
   "source": [
    "(sum(virat_cricket_score)/len(virat_cricket_score))"
   ]
  },
  {
   "cell_type": "code",
   "execution_count": 108,
   "id": "31583959",
   "metadata": {},
   "outputs": [
    {
     "data": {
      "text/plain": [
       "29.25"
      ]
     },
     "execution_count": 108,
     "metadata": {},
     "output_type": "execute_result"
    }
   ],
   "source": [
    "np.mean(virat_cricket_score)"
   ]
  },
  {
   "cell_type": "code",
   "execution_count": 109,
   "id": "21d29411",
   "metadata": {},
   "outputs": [
    {
     "data": {
      "text/plain": [
       "26.45"
      ]
     },
     "execution_count": 109,
     "metadata": {},
     "output_type": "execute_result"
    }
   ],
   "source": [
    "np.mean(my_crickect_score)"
   ]
  },
  {
   "cell_type": "code",
   "execution_count": null,
   "id": "98ebb157",
   "metadata": {},
   "outputs": [],
   "source": [
    "null_hypothesis:sample mean should be 26.45"
   ]
  },
  {
   "cell_type": "code",
   "execution_count": 116,
   "id": "84342acf",
   "metadata": {},
   "outputs": [
    {
     "data": {
      "text/plain": [
       "Ttest_1sampResult(statistic=0.0, pvalue=1.0)"
      ]
     },
     "execution_count": 116,
     "metadata": {},
     "output_type": "execute_result"
    }
   ],
   "source": [
    "import scipy\n",
    "scipy.stats.ttest_1samp(my_crickect_score,26.45)"
   ]
  },
  {
   "cell_type": "markdown",
   "id": "8cfcfe77",
   "metadata": {},
   "source": [
    "## Two-sample : T-Test (With respect to two independent sample)"
   ]
  },
  {
   "cell_type": "code",
   "execution_count": 117,
   "id": "1f96c363",
   "metadata": {},
   "outputs": [],
   "source": [
    "first_sample_mean=np.mean(my_crickect_score)\n",
    "second_sample_mean=np.mean(virat_cricket_score)"
   ]
  },
  {
   "cell_type": "code",
   "execution_count": 118,
   "id": "170dc017",
   "metadata": {},
   "outputs": [
    {
     "name": "stdout",
     "output_type": "stream",
     "text": [
      "26.45\n",
      "29.25\n"
     ]
    }
   ],
   "source": [
    "print(first_sample_mean)\n",
    "print(second_sample_mean)"
   ]
  },
  {
   "cell_type": "markdown",
   "id": "ce075b27",
   "metadata": {},
   "source": [
    "## Null Hypothesis: Both sample means will be same."
   ]
  },
  {
   "cell_type": "code",
   "execution_count": 119,
   "id": "c4e640db",
   "metadata": {},
   "outputs": [
    {
     "data": {
      "text/plain": [
       "Ttest_indResult(statistic=-0.8218566429329937, pvalue=0.41628550917098717)"
      ]
     },
     "execution_count": 119,
     "metadata": {},
     "output_type": "execute_result"
    }
   ],
   "source": [
    "scipy.stats.ttest_ind(my_crickect_score,virat_cricket_score)"
   ]
  },
  {
   "cell_type": "markdown",
   "id": "52344738",
   "metadata": {},
   "source": [
    "## Paired T_test (Two sample from the sample population on different time intervals)"
   ]
  },
  {
   "cell_type": "code",
   "execution_count": 120,
   "id": "c1b4d75f",
   "metadata": {},
   "outputs": [],
   "source": [
    "my_crickect_score_from_1st_innings=[16, 23, 13, 14, 41, 37, 31, 14, 28, 31, 20, 24, 47, 32, 39, 41, 19,\n",
    "       24, 19, 16]\n",
    "my_crickect_score_from_2nd_innings=[34, 23, 23, 14, 41, 37, 31, 35, 28, 31, 20, 24, 47, 32, 39, 41, 19,\n",
    "       24, 19, 16]"
   ]
  },
  {
   "cell_type": "code",
   "execution_count": 121,
   "id": "23905fd8",
   "metadata": {},
   "outputs": [
    {
     "data": {
      "text/plain": [
       "Ttest_relResult(statistic=-1.7498238048088428, pvalue=0.0962825430276771)"
      ]
     },
     "execution_count": 121,
     "metadata": {},
     "output_type": "execute_result"
    }
   ],
   "source": [
    "scipy.stats.ttest_rel(my_crickect_score_from_1st_innings,my_crickect_score_from_2nd_innings)"
   ]
  },
  {
   "cell_type": "code",
   "execution_count": 123,
   "id": "0f757045",
   "metadata": {},
   "outputs": [
    {
     "name": "stdout",
     "output_type": "stream",
     "text": [
      "26.45\n",
      "28.9\n"
     ]
    }
   ],
   "source": [
    "print(np.mean(my_crickect_score_from_1st_innings))\n",
    "print(np.mean(my_crickect_score_from_2nd_innings))"
   ]
  },
  {
   "cell_type": "markdown",
   "id": "1e1eaf3c",
   "metadata": {},
   "source": [
    "## Chi-Square Test"
   ]
  },
  {
   "cell_type": "code",
   "execution_count": 124,
   "id": "edb93864",
   "metadata": {},
   "outputs": [],
   "source": [
    "import seaborn as sns\n",
    "dataset=sns.load_dataset('tips')"
   ]
  },
  {
   "cell_type": "code",
   "execution_count": 125,
   "id": "d923e4fe",
   "metadata": {},
   "outputs": [
    {
     "name": "stdout",
     "output_type": "stream",
     "text": [
      "<class 'pandas.core.frame.DataFrame'>\n",
      "RangeIndex: 244 entries, 0 to 243\n",
      "Data columns (total 7 columns):\n",
      " #   Column      Non-Null Count  Dtype   \n",
      "---  ------      --------------  -----   \n",
      " 0   total_bill  244 non-null    float64 \n",
      " 1   tip         244 non-null    float64 \n",
      " 2   sex         244 non-null    category\n",
      " 3   smoker      244 non-null    category\n",
      " 4   day         244 non-null    category\n",
      " 5   time        244 non-null    category\n",
      " 6   size        244 non-null    int64   \n",
      "dtypes: category(4), float64(2), int64(1)\n",
      "memory usage: 7.4 KB\n"
     ]
    }
   ],
   "source": [
    "dataset.info()"
   ]
  },
  {
   "cell_type": "code",
   "execution_count": 126,
   "id": "7212ba27",
   "metadata": {},
   "outputs": [
    {
     "data": {
      "text/plain": [
       "Index(['total_bill', 'tip', 'sex', 'smoker', 'day', 'time', 'size'], dtype='object')"
      ]
     },
     "execution_count": 126,
     "metadata": {},
     "output_type": "execute_result"
    }
   ],
   "source": [
    "dataset.columns"
   ]
  },
  {
   "cell_type": "code",
   "execution_count": 128,
   "id": "f0b5c75c",
   "metadata": {},
   "outputs": [
    {
     "data": {
      "text/html": [
       "<div>\n",
       "<style scoped>\n",
       "    .dataframe tbody tr th:only-of-type {\n",
       "        vertical-align: middle;\n",
       "    }\n",
       "\n",
       "    .dataframe tbody tr th {\n",
       "        vertical-align: top;\n",
       "    }\n",
       "\n",
       "    .dataframe thead th {\n",
       "        text-align: right;\n",
       "    }\n",
       "</style>\n",
       "<table border=\"1\" class=\"dataframe\">\n",
       "  <thead>\n",
       "    <tr style=\"text-align: right;\">\n",
       "      <th></th>\n",
       "      <th>sex</th>\n",
       "      <th>smoker</th>\n",
       "    </tr>\n",
       "  </thead>\n",
       "  <tbody>\n",
       "    <tr>\n",
       "      <th>0</th>\n",
       "      <td>Female</td>\n",
       "      <td>No</td>\n",
       "    </tr>\n",
       "    <tr>\n",
       "      <th>1</th>\n",
       "      <td>Male</td>\n",
       "      <td>No</td>\n",
       "    </tr>\n",
       "    <tr>\n",
       "      <th>2</th>\n",
       "      <td>Male</td>\n",
       "      <td>No</td>\n",
       "    </tr>\n",
       "    <tr>\n",
       "      <th>3</th>\n",
       "      <td>Male</td>\n",
       "      <td>No</td>\n",
       "    </tr>\n",
       "    <tr>\n",
       "      <th>4</th>\n",
       "      <td>Female</td>\n",
       "      <td>No</td>\n",
       "    </tr>\n",
       "    <tr>\n",
       "      <th>...</th>\n",
       "      <td>...</td>\n",
       "      <td>...</td>\n",
       "    </tr>\n",
       "    <tr>\n",
       "      <th>239</th>\n",
       "      <td>Male</td>\n",
       "      <td>No</td>\n",
       "    </tr>\n",
       "    <tr>\n",
       "      <th>240</th>\n",
       "      <td>Female</td>\n",
       "      <td>Yes</td>\n",
       "    </tr>\n",
       "    <tr>\n",
       "      <th>241</th>\n",
       "      <td>Male</td>\n",
       "      <td>Yes</td>\n",
       "    </tr>\n",
       "    <tr>\n",
       "      <th>242</th>\n",
       "      <td>Male</td>\n",
       "      <td>No</td>\n",
       "    </tr>\n",
       "    <tr>\n",
       "      <th>243</th>\n",
       "      <td>Female</td>\n",
       "      <td>No</td>\n",
       "    </tr>\n",
       "  </tbody>\n",
       "</table>\n",
       "<p>244 rows × 2 columns</p>\n",
       "</div>"
      ],
      "text/plain": [
       "        sex smoker\n",
       "0    Female     No\n",
       "1      Male     No\n",
       "2      Male     No\n",
       "3      Male     No\n",
       "4    Female     No\n",
       "..      ...    ...\n",
       "239    Male     No\n",
       "240  Female    Yes\n",
       "241    Male    Yes\n",
       "242    Male     No\n",
       "243  Female     No\n",
       "\n",
       "[244 rows x 2 columns]"
      ]
     },
     "execution_count": 128,
     "metadata": {},
     "output_type": "execute_result"
    }
   ],
   "source": [
    "dataset[['sex','smoker']]"
   ]
  },
  {
   "cell_type": "code",
   "execution_count": 130,
   "id": "ffdcd51a",
   "metadata": {},
   "outputs": [],
   "source": [
    "dataset_table=pd.crosstab(dataset['sex'],dataset['smoker'])"
   ]
  },
  {
   "cell_type": "code",
   "execution_count": 133,
   "id": "4ba29e5d",
   "metadata": {},
   "outputs": [],
   "source": [
    "dataset_array=dataset_table.values"
   ]
  },
  {
   "cell_type": "code",
   "execution_count": 149,
   "id": "b7684b95",
   "metadata": {},
   "outputs": [],
   "source": [
    "obs_vals=dataset_array"
   ]
  },
  {
   "cell_type": "code",
   "execution_count": 135,
   "id": "40dc5338",
   "metadata": {},
   "outputs": [
    {
     "name": "stdout",
     "output_type": "stream",
     "text": [
      "Observed values: \n",
      " [[60 97]\n",
      " [33 54]]\n"
     ]
    }
   ],
   "source": [
    "print(f\"Observed values: \\n {dataset_array}\")"
   ]
  },
  {
   "cell_type": "code",
   "execution_count": 136,
   "id": "011a8b97",
   "metadata": {},
   "outputs": [],
   "source": [
    "stats_test,p,dof,expected_value=stats.chi2_contingency(dataset_array)"
   ]
  },
  {
   "cell_type": "code",
   "execution_count": 137,
   "id": "b17e2369",
   "metadata": {},
   "outputs": [
    {
     "data": {
      "text/plain": [
       "array([[59.84016393, 97.15983607],\n",
       "       [33.15983607, 53.84016393]])"
      ]
     },
     "execution_count": 137,
     "metadata": {},
     "output_type": "execute_result"
    }
   ],
   "source": [
    "expected_value"
   ]
  },
  {
   "cell_type": "code",
   "execution_count": 143,
   "id": "aa87285b",
   "metadata": {},
   "outputs": [],
   "source": [
    "no_of_rows=dataset_table.iloc[0:2,0]"
   ]
  },
  {
   "cell_type": "code",
   "execution_count": 142,
   "id": "c6f2b3bb",
   "metadata": {},
   "outputs": [],
   "source": [
    "no_of_columns=dataset_table.iloc[0,0:2]"
   ]
  },
  {
   "cell_type": "code",
   "execution_count": 146,
   "id": "18e75799",
   "metadata": {},
   "outputs": [],
   "source": [
    "dof=(len(no_of_rows)-1)*(len(no_of_columns)-1)"
   ]
  },
  {
   "cell_type": "code",
   "execution_count": 147,
   "id": "21bfab0a",
   "metadata": {},
   "outputs": [
    {
     "data": {
      "text/plain": [
       "1"
      ]
     },
     "execution_count": 147,
     "metadata": {},
     "output_type": "execute_result"
    }
   ],
   "source": [
    "dof"
   ]
  },
  {
   "cell_type": "code",
   "execution_count": 150,
   "id": "8982e053",
   "metadata": {},
   "outputs": [
    {
     "name": "stdout",
     "output_type": "stream",
     "text": [
      "[60 97] [59.84016393 97.15983607]\n",
      "[33 54] [33.15983607 53.84016393]\n"
     ]
    }
   ],
   "source": [
    "for o,e in zip(obs_vals,expected_value):\n",
    "    print(o,e)"
   ]
  },
  {
   "cell_type": "code",
   "execution_count": 153,
   "id": "51ea427e",
   "metadata": {},
   "outputs": [],
   "source": [
    "from scipy.stats import chi2\n",
    "chisquare_test=sum([(o-e)**2./e for o,e in zip(obs_vals,expected_value)])"
   ]
  },
  {
   "cell_type": "code",
   "execution_count": 154,
   "id": "249e34ba",
   "metadata": {},
   "outputs": [
    {
     "data": {
      "text/plain": [
       "array([0.00119737, 0.00073745])"
      ]
     },
     "execution_count": 154,
     "metadata": {},
     "output_type": "execute_result"
    }
   ],
   "source": [
    "chisquare_test"
   ]
  },
  {
   "cell_type": "code",
   "execution_count": 157,
   "id": "ae39b0d3",
   "metadata": {},
   "outputs": [],
   "source": [
    "chi_square_statistic=chisquare_test[0]+chisquare_test[1]"
   ]
  },
  {
   "cell_type": "code",
   "execution_count": 158,
   "id": "735f7ee4",
   "metadata": {},
   "outputs": [],
   "source": [
    "alpha=0.05"
   ]
  },
  {
   "cell_type": "code",
   "execution_count": 159,
   "id": "9d54fd64",
   "metadata": {},
   "outputs": [],
   "source": [
    "from scipy.stats import chi2\n",
    "critical_value=chi2.ppf(1-alpha,df=dof)"
   ]
  },
  {
   "cell_type": "code",
   "execution_count": 164,
   "id": "f40a5030",
   "metadata": {},
   "outputs": [
    {
     "name": "stdout",
     "output_type": "stream",
     "text": [
      "Retain H0,There is no relationship between 2 categorical variables\n"
     ]
    }
   ],
   "source": [
    "if chi_square_statistic>=critical_value:\n",
    "    print(\"Reject H0,There is a relationship between 2 categorical variables\")\n",
    "else:\n",
    "    print(\"Retain H0,There is no relationship between 2 categorical variables\")"
   ]
  },
  {
   "cell_type": "code",
   "execution_count": 165,
   "id": "45cc92a7",
   "metadata": {},
   "outputs": [
    {
     "name": "stdout",
     "output_type": "stream",
     "text": [
      "Retain H0,There is no relationship between 2 categorical variables\n"
     ]
    }
   ],
   "source": [
    "if p_value<=alpha:\n",
    "    print(\"Reject H0,There is a relationship between 2 categorical variables\")\n",
    "else:\n",
    "    print(\"Retain H0,There is no relationship between 2 categorical variables\")\n"
   ]
  },
  {
   "cell_type": "code",
   "execution_count": 163,
   "id": "98bb6cc2",
   "metadata": {},
   "outputs": [],
   "source": [
    "p_value=1-chi2.cdf(x=chi_square_statistic,df=dof)"
   ]
  },
  {
   "cell_type": "code",
   "execution_count": 166,
   "id": "9932a39d",
   "metadata": {},
   "outputs": [
    {
     "data": {
      "text/plain": [
       "0.964915107315732"
      ]
     },
     "execution_count": 166,
     "metadata": {},
     "output_type": "execute_result"
    }
   ],
   "source": [
    "p_value"
   ]
  },
  {
   "cell_type": "code",
   "execution_count": null,
   "id": "35124519",
   "metadata": {},
   "outputs": [],
   "source": []
  }
 ],
 "metadata": {
  "kernelspec": {
   "display_name": "Python 3 (ipykernel)",
   "language": "python",
   "name": "python3"
  },
  "language_info": {
   "codemirror_mode": {
    "name": "ipython",
    "version": 3
   },
   "file_extension": ".py",
   "mimetype": "text/x-python",
   "name": "python",
   "nbconvert_exporter": "python",
   "pygments_lexer": "ipython3",
   "version": "3.9.13"
  }
 },
 "nbformat": 4,
 "nbformat_minor": 5
}
